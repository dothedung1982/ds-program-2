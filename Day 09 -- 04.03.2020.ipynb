{
 "cells": [
  {
   "cell_type": "code",
   "execution_count": 5,
   "metadata": {},
   "outputs": [],
   "source": [
    "import numpy as np\n",
    "import matplotlib.pyplot as plt"
   ]
  },
  {
   "cell_type": "code",
   "execution_count": 22,
   "metadata": {},
   "outputs": [
    {
     "data": {
      "text/plain": [
       "[<matplotlib.lines.Line2D at 0x1dd2285e048>]"
      ]
     },
     "execution_count": 22,
     "metadata": {},
     "output_type": "execute_result"
    },
    {
     "data": {
      "image/png": "[encoded data removed]",
      "text/plain": [
       "<Figure size 432x288 with 1 Axes>"
      ]
     },
     "metadata": {
      "needs_background": "light"
     },
     "output_type": "display_data"
    }
   ],
   "source": [
    "fig, ax = plt.subplots()  # Create a figure containing a single axes.\n",
    "ax.plot([1, 2, 3, 4], [1, 4, 2, 3])\n",
    "#ax.plot([y1, y2, y3, y4], [x1, x1, x1,x1 ])  # Plot some data on the axes."
   ]
  },
  {
   "cell_type": "code",
   "execution_count": 16,
   "metadata": {},
   "outputs": [
    {
     "name": "stdout",
     "output_type": "stream",
     "text": [
      "Enter a value x: 20\n"
     ]
    },
    {
     "data": {
      "text/plain": [
       "20"
      ]
     },
     "execution_count": 16,
     "metadata": {},
     "output_type": "execute_result"
    }
   ],
   "source": [
    "number_x = int(input(\"Enter a value x: \"))\n",
    "number_x"
   ]
  },
  {
   "cell_type": "code",
   "execution_count": 17,
   "metadata": {},
   "outputs": [
    {
     "name": "stdout",
     "output_type": "stream",
     "text": [
      "Enter a value y: 50\n"
     ]
    },
    {
     "data": {
      "text/plain": [
       "50"
      ]
     },
     "execution_count": 17,
     "metadata": {},
     "output_type": "execute_result"
    }
   ],
   "source": [
    "number_y = int(input(\"Enter a value y: \"))\n",
    "number_y "
   ]
  },
  {
   "cell_type": "code",
   "execution_count": 24,
   "metadata": {},
   "outputs": [
    {
     "data": {
      "text/plain": [
       "array([17, 96, 69, 61, 80, 21, 65, 40, 58,  9, 31, 94, 60,  2, 41, 87, 94,\n",
       "       16, 71, 29, 17, 12, 89, 69, 93,  4,  9, 38, 66, 54])"
      ]
     },
     "execution_count": 24,
     "metadata": {},
     "output_type": "execute_result"
    }
   ],
   "source": [
    "size = 30\n",
    "array_x = np.random.randint(100, size=size)\n",
    "array_y = np.random.randint(100, size=size)\n",
    "array_y"
   ]
  },
  {
   "cell_type": "code",
   "execution_count": null,
   "metadata": {},
   "outputs": [],
   "source": [
    "fig, ax = plt.subplots()\n",
    "for i in range(size):\n",
    "    ax.plot([number_x, array_x[i]], [number_y, array_y[i]])"
   ]
  },
  {
   "cell_type": "code",
   "execution_count": 1,
   "metadata": {},
   "outputs": [
    {
     "name": "stdout",
     "output_type": "stream",
     "text": [
      "Enter a value (x1, y1): 30, 40\n",
      "(x1, y1) = (30, 40)\n"
     ]
    }
   ],
   "source": [
    "x1y1 = (input(\"Enter a value (x1, y1): \"))\n",
    "x1, y1 = (int)(x1y1.split(',')[0]), (int)(x1y1.split(',')[1])\n",
    "print('(x1, y1) = ({}, {})'.format(x1, y1))"
   ]
  },
  {
   "cell_type": "code",
   "execution_count": 2,
   "metadata": {},
   "outputs": [
    {
     "name": "stdout",
     "output_type": "stream",
     "text": [
      "Enter a value (x2, y2): 60, 70\n",
      "(x2, y2) = (60, 70)\n"
     ]
    }
   ],
   "source": [
    "x2y2 = (input(\"Enter a value (x2, y2): \"))\n",
    "x2, y2 = (int)(x2y2.split(',')[0]), (int)(x2y2.split(',')[1])\n",
    "print('(x2, y2) = ({}, {})'.format(x2, y2))"
   ]
  },
  {
   "cell_type": "code",
   "execution_count": 6,
   "metadata": {},
   "outputs": [
    {
     "data": {
      "text/plain": [
       "[<matplotlib.lines.Line2D at 0x26122396c48>]"
      ]
     },
     "execution_count": 6,
     "metadata": {},
     "output_type": "execute_result"
    },
    {
     "data": {
      "image/png": "[encoded data removed]",
      "text/plain": [
       "<Figure size 432x288 with 1 Axes>"
      ]
     },
     "metadata": {
      "needs_background": "light"
     },
     "output_type": "display_data"
    }
   ],
   "source": [
    "fig, ax = plt.subplots()\n",
    "plt.scatter([x1, x2], [y1, y2], color = 'red')\n",
    "ax.plot([x1, x2], [y1, y2])"
   ]
  },
  {
   "cell_type": "code",
   "execution_count": 20,
   "metadata": {},
   "outputs": [
    {
     "name": "stdout",
     "output_type": "stream",
     "text": [
      "1.0 1.3333333333333333\n"
     ]
    }
   ],
   "source": [
    "z1 = np.array([x1, y1])\n",
    "z2 = np.array([x2, y2])\n",
    "z3 = z2 - z1\n",
    "a = z3[1] / z3[0]\n",
    "b = z1[1] / z1[0]*a\n",
    "print(a, b)"
   ]
  },
  {
   "cell_type": "code",
   "execution_count": 23,
   "metadata": {},
   "outputs": [
    {
     "data": {
      "text/plain": [
       "array([-98.66666667, -97.66666667, -96.66666667, -95.66666667,\n",
       "       -94.66666667, -93.66666667, -92.66666667, -91.66666667,\n",
       "       -90.66666667, -89.66666667, -88.66666667, -87.66666667,\n",
       "       -86.66666667, -85.66666667, -84.66666667, -83.66666667,\n",
       "       -82.66666667, -81.66666667, -80.66666667, -79.66666667,\n",
       "       -78.66666667, -77.66666667, -76.66666667, -75.66666667,\n",
       "       -74.66666667, -73.66666667, -72.66666667, -71.66666667,\n",
       "       -70.66666667, -69.66666667, -68.66666667, -67.66666667,\n",
       "       -66.66666667, -65.66666667, -64.66666667, -63.66666667,\n",
       "       -62.66666667, -61.66666667, -60.66666667, -59.66666667,\n",
       "       -58.66666667, -57.66666667, -56.66666667, -55.66666667,\n",
       "       -54.66666667, -53.66666667, -52.66666667, -51.66666667,\n",
       "       -50.66666667, -49.66666667, -48.66666667, -47.66666667,\n",
       "       -46.66666667, -45.66666667, -44.66666667, -43.66666667,\n",
       "       -42.66666667, -41.66666667, -40.66666667, -39.66666667,\n",
       "       -38.66666667, -37.66666667, -36.66666667, -35.66666667,\n",
       "       -34.66666667, -33.66666667, -32.66666667, -31.66666667,\n",
       "       -30.66666667, -29.66666667, -28.66666667, -27.66666667,\n",
       "       -26.66666667, -25.66666667, -24.66666667, -23.66666667,\n",
       "       -22.66666667, -21.66666667, -20.66666667, -19.66666667,\n",
       "       -18.66666667, -17.66666667, -16.66666667, -15.66666667,\n",
       "       -14.66666667, -13.66666667, -12.66666667, -11.66666667,\n",
       "       -10.66666667,  -9.66666667,  -8.66666667,  -7.66666667,\n",
       "        -6.66666667,  -5.66666667,  -4.66666667,  -3.66666667,\n",
       "        -2.66666667,  -1.66666667,  -0.66666667,   0.33333333,\n",
       "         1.33333333,   2.33333333,   3.33333333,   4.33333333,\n",
       "         5.33333333,   6.33333333,   7.33333333,   8.33333333,\n",
       "         9.33333333,  10.33333333,  11.33333333,  12.33333333,\n",
       "        13.33333333,  14.33333333,  15.33333333,  16.33333333,\n",
       "        17.33333333,  18.33333333,  19.33333333,  20.33333333,\n",
       "        21.33333333,  22.33333333,  23.33333333,  24.33333333,\n",
       "        25.33333333,  26.33333333,  27.33333333,  28.33333333,\n",
       "        29.33333333,  30.33333333,  31.33333333,  32.33333333,\n",
       "        33.33333333,  34.33333333,  35.33333333,  36.33333333,\n",
       "        37.33333333,  38.33333333,  39.33333333,  40.33333333,\n",
       "        41.33333333,  42.33333333,  43.33333333,  44.33333333,\n",
       "        45.33333333,  46.33333333,  47.33333333,  48.33333333,\n",
       "        49.33333333,  50.33333333,  51.33333333,  52.33333333,\n",
       "        53.33333333,  54.33333333,  55.33333333,  56.33333333,\n",
       "        57.33333333,  58.33333333,  59.33333333,  60.33333333,\n",
       "        61.33333333,  62.33333333,  63.33333333,  64.33333333,\n",
       "        65.33333333,  66.33333333,  67.33333333,  68.33333333,\n",
       "        69.33333333,  70.33333333,  71.33333333,  72.33333333,\n",
       "        73.33333333,  74.33333333,  75.33333333,  76.33333333,\n",
       "        77.33333333,  78.33333333,  79.33333333,  80.33333333,\n",
       "        81.33333333,  82.33333333,  83.33333333,  84.33333333,\n",
       "        85.33333333,  86.33333333,  87.33333333,  88.33333333,\n",
       "        89.33333333,  90.33333333,  91.33333333,  92.33333333,\n",
       "        93.33333333,  94.33333333,  95.33333333,  96.33333333,\n",
       "        97.33333333,  98.33333333,  99.33333333, 100.33333333])"
      ]
     },
     "execution_count": 23,
     "metadata": {},
     "output_type": "execute_result"
    }
   ],
   "source": [
    "x = np.arange(-100, 100)\n",
    "y = a*x + b\n",
    "y"
   ]
  },
  {
   "cell_type": "code",
   "execution_count": 33,
   "metadata": {},
   "outputs": [
    {
     "data": {
      "image/png": "[encoded data removed]",
      "text/plain": [
       "<Figure size 432x288 with 1 Axes>"
      ]
     },
     "metadata": {
      "needs_background": "light"
     },
     "output_type": "display_data"
    }
   ],
   "source": [
    "plt.scatter([x1, x2], [y1, y2], color = 'red')\n",
    "plt.plot(x, y)\n",
    "plt.show()"
   ]
  },
  {
   "cell_type": "code",
   "execution_count": 31,
   "metadata": {},
   "outputs": [
    {
     "data": {
      "image/png": "[encoded data removed]",
      "text/plain": [
       "<Figure size 432x288 with 1 Axes>"
      ]
     },
     "metadata": {
      "needs_background": "light"
     },
     "output_type": "display_data"
    }
   ],
   "source": [
    "x1, y1 = (10, 20)\n",
    "x2, y2 = (20, 80)\n",
    "x3, y3 = (40, 59)\n",
    "plt.scatter([x1, x2, x3], [y1, y2, y3], color = 'red')\n",
    "#---------------------\n",
    "a = 10;\n",
    "b = 20;\n",
    "#---------------------\n",
    "x = np.arange(-100, 100)\n",
    "y = a*x + b\n",
    "#---------------------\n",
    "plt.plot(x, y)\n",
    "plt.show()"
   ]
  },
  {
   "cell_type": "code",
   "execution_count": 37,
   "metadata": {},
   "outputs": [
    {
     "data": {
      "text/plain": [
       "array([20, 80, 59])"
      ]
     },
     "execution_count": 37,
     "metadata": {},
     "output_type": "execute_result"
    }
   ],
   "source": [
    "a_x = np.array([x1, x2, x3])\n",
    "a_y = np.array([y1, y2, y3])\n",
    "a_y"
   ]
  },
  {
   "cell_type": "code",
   "execution_count": 34,
   "metadata": {},
   "outputs": [
    {
     "data": {
      "text/plain": [
       "array([10, 20, 40])"
      ]
     },
     "execution_count": 34,
     "metadata": {},
     "output_type": "execute_result"
    }
   ],
   "source": [
    "np.array([x1, x2, x3])"
   ]
  },
  {
   "cell_type": "code",
   "execution_count": null,
   "metadata": {},
   "outputs": [],
   "source": []
  }
 ],
 "metadata": {
  "kernelspec": {
   "display_name": "Python 3",
   "language": "python",
   "name": "python3"
  },
  "language_info": {
   "codemirror_mode": {
    "name": "ipython",
    "version": 3
   },
   "file_extension": ".py",
   "mimetype": "text/x-python",
   "name": "python",
   "nbconvert_exporter": "python",
   "pygments_lexer": "ipython3",
   "version": "3.7.4"
  }
 },
 "nbformat": 4,
 "nbformat_minor": 2
}

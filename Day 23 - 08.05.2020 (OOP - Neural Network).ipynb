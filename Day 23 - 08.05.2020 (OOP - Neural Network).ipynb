{
 "cells": [
  {
   "cell_type": "code",
   "execution_count": 107,
   "metadata": {},
   "outputs": [
    {
     "name": "stdout",
     "output_type": "stream",
     "text": [
      "train_value = 0.11692204670928244\n"
     ]
    }
   ],
   "source": [
    "import numpy as np\n",
    "import matplotlib.pyplot as plt\n",
    "%matplotlib inline\n",
    "\n",
    "class NeuralNetworkBasicForward:\n",
    "    def __init__(self):\n",
    "        pass\n",
    "    \n",
    "    def __sigmoid(self, x):\n",
    "        return 1/(1 + np.exp(-x))\n",
    "    \n",
    "    def __cost(self, x, w, b):\n",
    "        return (np.mean(np.dot(x, w)) + b)\n",
    "    \n",
    "    def __initialize_with_zeros(self, dim):\n",
    "        w = np.random.uniform(0, 1, dim).reshape(1, -1)\n",
    "        b = np.random.uniform(0, 1, 1)\n",
    "        return w, b\n",
    "    \n",
    "\n",
    "    def train(self, N_dataset, M_layers, Km_Node):\n",
    "        tmps = []\n",
    "        # chuyển thành dạng cột\n",
    "        X = N_dataset.reshape(-1, 1)\n",
    "        for i in range(M_layers):\n",
    "            number_of_nodes = Km_Node[i, 0]\n",
    "            for j in range(number_of_nodes):\n",
    "                w, b = self.__initialize_with_zeros(N_dataset.shape[0])\n",
    "                f = self.__sigmoid(self.__cost(X, w, b))\n",
    "                tmps.append(f)\n",
    "        #\n",
    "        values = np.array(tmps)\n",
    "        return (values.mean())\n",
    "    \n",
    "\n",
    "#------------------- to test\n",
    "#N: data input\n",
    "#M: Số Layer\n",
    "# Km: Số node trong 1 layer\n",
    "N = np.random.uniform(-100, 100, 100)\n",
    "M = 4\n",
    "Km = np.random.randint(1, 5, size =(M, 1))\n",
    "\n",
    "#\n",
    "model = NeuralNetworkBasicForward()\n",
    "train_value = model.train(N, M, Km)\n",
    "print('train_value = {}'.format(train_value))"
   ]
  },
  {
   "cell_type": "code",
   "execution_count": null,
   "metadata": {},
   "outputs": [],
   "source": []
  },
  {
   "cell_type": "code",
   "execution_count": null,
   "metadata": {},
   "outputs": [],
   "source": []
  }
 ],
 "metadata": {
  "kernelspec": {
   "display_name": "Python 3",
   "language": "python",
   "name": "python3"
  },
  "language_info": {
   "codemirror_mode": {
    "name": "ipython",
    "version": 3
   },
   "file_extension": ".py",
   "mimetype": "text/x-python",
   "name": "python",
   "nbconvert_exporter": "python",
   "pygments_lexer": "ipython3",
   "version": "3.7.4"
  }
 },
 "nbformat": 4,
 "nbformat_minor": 2
}

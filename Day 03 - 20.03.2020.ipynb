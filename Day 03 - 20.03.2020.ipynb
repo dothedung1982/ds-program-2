{
 "cells": [
  {
   "cell_type": "code",
   "execution_count": 1,
   "metadata": {},
   "outputs": [],
   "source": [
    "a.\tGenerate a list as follows: x = [0.1,0.2,0.3, …., 4.9, 5.0]"
   ]
  },
  {
   "cell_type": "code",
   "execution_count": 1,
   "metadata": {},
   "outputs": [
    {
     "data": {
      "text/plain": [
       "[0.1,\n",
       " 0.2,\n",
       " 0.3,\n",
       " 0.4,\n",
       " 0.5,\n",
       " 0.6,\n",
       " 0.7,\n",
       " 0.8,\n",
       " 0.9,\n",
       " 1.0,\n",
       " 1.1,\n",
       " 1.2,\n",
       " 1.3,\n",
       " 1.4,\n",
       " 1.5,\n",
       " 1.6,\n",
       " 1.7,\n",
       " 1.8,\n",
       " 1.9,\n",
       " 2.0,\n",
       " 2.1,\n",
       " 2.2,\n",
       " 2.3,\n",
       " 2.4,\n",
       " 2.5,\n",
       " 2.6,\n",
       " 2.7,\n",
       " 2.8,\n",
       " 2.9,\n",
       " 3.0,\n",
       " 3.1,\n",
       " 3.2,\n",
       " 3.3,\n",
       " 3.4,\n",
       " 3.5,\n",
       " 3.6,\n",
       " 3.7,\n",
       " 3.8,\n",
       " 3.9,\n",
       " 4.0,\n",
       " 4.1,\n",
       " 4.2,\n",
       " 4.3,\n",
       " 4.4,\n",
       " 4.5,\n",
       " 4.6,\n",
       " 4.7,\n",
       " 4.8,\n",
       " 4.9,\n",
       " 5.0]"
      ]
     },
     "execution_count": 1,
     "metadata": {},
     "output_type": "execute_result"
    }
   ],
   "source": [
    "x = [x / 10 for x in range(1, 51)]\n",
    "x"
   ]
  },
  {
   "cell_type": "code",
   "execution_count": 3,
   "metadata": {},
   "outputs": [
    {
     "data": {
      "text/plain": [
       "[1.9900083305560516,\n",
       " 1.9601331556824833,\n",
       " 1.910672978251212,\n",
       " 1.8421219880057702,\n",
       " 1.7551651237807455,\n",
       " 1.6506712298193567,\n",
       " 1.529684374568977,\n",
       " 1.3934134186943308,\n",
       " 1.2432199365413288,\n",
       " 1.0806046117362795,\n",
       " 0.9071922428511546,\n",
       " 0.7247155089533472,\n",
       " 0.5349976572491747,\n",
       " 0.33993428580048207,\n",
       " 0.1414744033354058,\n",
       " -0.05839904460257763,\n",
       " -0.2576889885910493,\n",
       " -0.4544041893861742,\n",
       " -0.6465791337270067,\n",
       " -0.8322936730942848,\n",
       " -1.0096922091997151,\n",
       " -1.1770022345106916,\n",
       " -1.332552042559648,\n",
       " -1.4747874310824909,\n",
       " -1.6022872310938674,\n",
       " -1.7137775067378946,\n",
       " -1.8081442840341224,\n",
       " -1.8844446813373161,\n",
       " -1.941916330299181,\n",
       " -1.9799849932008908,\n",
       " -1.998270300546559,\n",
       " -1.9965895515895062,\n",
       " -1.9749595398177298,\n",
       " -1.9335963851589222,\n",
       " -1.8729133745815927,\n",
       " -1.793516832668294,\n",
       " -1.696200063420816,\n",
       " -1.5819354238288337,\n",
       " -1.4518646084002804,\n",
       " -1.3072872417272239,\n",
       " -1.1496478930665384,\n",
       " -0.9805216426813989,\n",
       " -0.8015983441599509,\n",
       " -0.6146657399568387,\n",
       " -0.4215915988615594,\n",
       " -0.22430505387010974,\n",
       " -0.02477732692578112,\n",
       " 0.1749979668788928,\n",
       " 0.3730247388451515,\n",
       " 0.5673243709264525]"
      ]
     },
     "execution_count": 3,
     "metadata": {},
     "output_type": "execute_result"
    }
   ],
   "source": [
    "# b.\tCompute the value of function f(x) = 2 * cos(x)\n",
    "import math\n",
    "f_x = [2 * math.cos(e) for e in x]\n",
    "f_x"
   ]
  },
  {
   "cell_type": "code",
   "execution_count": 5,
   "metadata": {},
   "outputs": [
    {
     "data": {
      "text/plain": [
       "[<matplotlib.lines.Line2D at 0x1d722c54308>]"
      ]
     },
     "execution_count": 5,
     "metadata": {},
     "output_type": "execute_result"
    },
    {
     "data": {
      "image/png": "[encoded data removed]",
      "text/plain": [
       "<Figure size 432x288 with 1 Axes>"
      ]
     },
     "metadata": {
      "needs_background": "light"
     },
     "output_type": "display_data"
    }
   ],
   "source": [
    "#c.\tPlot function f(x) using mathplotlib \n",
    "import matplotlib.pyplot as plt\n",
    "fig, ax = plt.subplots()  # Create a figure containing a single axes.\n",
    "ax.plot(x, f_x)  # Plot some data on the axes."
   ]
  },
  {
   "cell_type": "code",
   "execution_count": 55,
   "metadata": {},
   "outputs": [
    {
     "data": {
      "text/plain": [
       "[[28, 34], [64, 79]]"
      ]
     },
     "execution_count": 55,
     "metadata": {},
     "output_type": "execute_result"
    }
   ],
   "source": [
    "#2.\tImplement a script to multiple 2 matrix (use list as a matrix)\n",
    "A = [[1,2,3], \n",
    "     [4,5,6]] # 2x3 matrix\n",
    "\n",
    "B = [[2,3], \n",
    "     [4,5], \n",
    "     [6,7]] # 3x2 matrix\n",
    "\n",
    "#C = A x B \n",
    "#C = [[ 1 * 2 + 2 * 4 + 3 * 6, 1 * 3 + 2 * 5 + 3 * 7 ], [4 * 2 + 5 * 4 + 6 * 6, 4 * 3 + 5 * 5 + 6 * 7]]\n",
    "\n",
    "C = [[0, 0], [0, 0]]\n",
    "#C = [0 for A_row in A]\n",
    "#C = zip(C, B[0])\n",
    "#C = list(C)\n",
    "\n",
    "for i in range(len(A)):\n",
    "   for j in range(len(B[0])):\n",
    "       # iterate through rows of Y\n",
    "       for k in range(len(B)):\n",
    "           C[i][j] += A[i][k] * B[k][j]\n",
    "C"
   ]
  },
  {
   "cell_type": "code",
   "execution_count": 52,
   "metadata": {},
   "outputs": [
    {
     "data": {
      "text/plain": [
       "[(0, 2), (0, 3)]"
      ]
     },
     "execution_count": 52,
     "metadata": {},
     "output_type": "execute_result"
    }
   ],
   "source": [
    "\n"
   ]
  },
  {
   "cell_type": "code",
   "execution_count": 27,
   "metadata": {},
   "outputs": [
    {
     "data": {
      "text/plain": [
       "[(0, 2), (0, 3)]"
      ]
     },
     "execution_count": 27,
     "metadata": {},
     "output_type": "execute_result"
    }
   ],
   "source": []
  },
  {
   "cell_type": "code",
   "execution_count": 23,
   "metadata": {},
   "outputs": [
    {
     "data": {
      "text/plain": [
       "<zip at 0x1d722cf36c8>"
      ]
     },
     "execution_count": 23,
     "metadata": {},
     "output_type": "execute_result"
    }
   ],
   "source": []
  },
  {
   "cell_type": "code",
   "execution_count": null,
   "metadata": {},
   "outputs": [],
   "source": []
  },
  {
   "cell_type": "code",
   "execution_count": null,
   "metadata": {},
   "outputs": [],
   "source": []
  },
  {
   "cell_type": "code",
   "execution_count": null,
   "metadata": {},
   "outputs": [],
   "source": []
  },
  {
   "cell_type": "code",
   "execution_count": null,
   "metadata": {},
   "outputs": [],
   "source": []
  },
  {
   "cell_type": "code",
   "execution_count": null,
   "metadata": {},
   "outputs": [],
   "source": []
  }
 ],
 "metadata": {
  "kernelspec": {
   "display_name": "Python 3",
   "language": "python",
   "name": "python3"
  },
  "language_info": {
   "codemirror_mode": {
    "name": "ipython",
    "version": 3
   },
   "file_extension": ".py",
   "mimetype": "text/x-python",
   "name": "python",
   "nbconvert_exporter": "python",
   "pygments_lexer": "ipython3",
   "version": "3.7.4"
  }
 },
 "nbformat": 4,
 "nbformat_minor": 2
}

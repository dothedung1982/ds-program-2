{
 "cells": [
  {
   "cell_type": "code",
   "execution_count": 61,
   "metadata": {},
   "outputs": [
    {
     "name": "stdout",
     "output_type": "stream",
     "text": [
      "Requirement already satisfied: pandas in c:\\anaconda3\\lib\\site-packages (0.25.1)\n",
      "Requirement already satisfied: numpy>=1.13.3 in c:\\anaconda3\\lib\\site-packages (from pandas) (1.16.5)\n",
      "Requirement already satisfied: pytz>=2017.2 in c:\\anaconda3\\lib\\site-packages (from pandas) (2019.3)\n",
      "Requirement already satisfied: python-dateutil>=2.6.1 in c:\\anaconda3\\lib\\site-packages (from pandas) (2.8.0)\n",
      "Requirement already satisfied: six>=1.5 in c:\\anaconda3\\lib\\site-packages (from python-dateutil>=2.6.1->pandas) (1.12.0)\n",
      "Note: you may need to restart the kernel to use updated packages.\n"
     ]
    }
   ],
   "source": [
    "pip install pandas"
   ]
  },
  {
   "cell_type": "code",
   "execution_count": 62,
   "metadata": {},
   "outputs": [],
   "source": [
    "import numpy as np\n",
    "import pandas as pd"
   ]
  },
  {
   "cell_type": "markdown",
   "metadata": {},
   "source": [
    "# Load data from excel into Pandas"
   ]
  },
  {
   "cell_type": "code",
   "execution_count": 93,
   "metadata": {
    "scrolled": true
   },
   "outputs": [
    {
     "data": {
      "text/html": [
       "<div>\n",
       "<style scoped>\n",
       "    .dataframe tbody tr th:only-of-type {\n",
       "        vertical-align: middle;\n",
       "    }\n",
       "\n",
       "    .dataframe tbody tr th {\n",
       "        vertical-align: top;\n",
       "    }\n",
       "\n",
       "    .dataframe thead th {\n",
       "        text-align: right;\n",
       "    }\n",
       "</style>\n",
       "<table border=\"1\" class=\"dataframe\">\n",
       "  <thead>\n",
       "    <tr style=\"text-align: right;\">\n",
       "      <th></th>\n",
       "      <th>Country</th>\n",
       "      <th>Region</th>\n",
       "      <th>Sales Person</th>\n",
       "      <th>Date of Purchase</th>\n",
       "      <th>Total</th>\n",
       "      <th>Quantity</th>\n",
       "    </tr>\n",
       "  </thead>\n",
       "  <tbody>\n",
       "    <tr>\n",
       "      <td>0</td>\n",
       "      <td>India</td>\n",
       "      <td>North</td>\n",
       "      <td>John</td>\n",
       "      <td>1/23/2014 0:00:00</td>\n",
       "      <td>100000</td>\n",
       "      <td>567</td>\n",
       "    </tr>\n",
       "    <tr>\n",
       "      <td>1</td>\n",
       "      <td>US</td>\n",
       "      <td>North</td>\n",
       "      <td>Bill</td>\n",
       "      <td>10/9/2017 0:00:00</td>\n",
       "      <td>120000</td>\n",
       "      <td>3000</td>\n",
       "    </tr>\n",
       "    <tr>\n",
       "      <td>2</td>\n",
       "      <td>UK</td>\n",
       "      <td>North</td>\n",
       "      <td>Thomas</td>\n",
       "      <td>5/17/2010 0:00:00</td>\n",
       "      <td>140000</td>\n",
       "      <td>345</td>\n",
       "    </tr>\n",
       "    <tr>\n",
       "      <td>3</td>\n",
       "      <td>Australia</td>\n",
       "      <td>East</td>\n",
       "      <td>John</td>\n",
       "      <td>1/11/2015 0:00:00</td>\n",
       "      <td>160000</td>\n",
       "      <td>1000</td>\n",
       "    </tr>\n",
       "    <tr>\n",
       "      <td>4</td>\n",
       "      <td>Africa</td>\n",
       "      <td>East</td>\n",
       "      <td>Bill</td>\n",
       "      <td>7/21/2011 0:00:00</td>\n",
       "      <td>180000</td>\n",
       "      <td>123</td>\n",
       "    </tr>\n",
       "    <tr>\n",
       "      <td>5</td>\n",
       "      <td>Singapore</td>\n",
       "      <td>East</td>\n",
       "      <td>Thomas</td>\n",
       "      <td>6/10/2015 0:00:00</td>\n",
       "      <td>200000</td>\n",
       "      <td>1000</td>\n",
       "    </tr>\n",
       "    <tr>\n",
       "      <td>6</td>\n",
       "      <td>Mylasia</td>\n",
       "      <td>West</td>\n",
       "      <td>John</td>\n",
       "      <td>5/14/2012 0:00:00</td>\n",
       "      <td>1000000</td>\n",
       "      <td>7890</td>\n",
       "    </tr>\n",
       "    <tr>\n",
       "      <td>7</td>\n",
       "      <td>India</td>\n",
       "      <td>West</td>\n",
       "      <td>Bill</td>\n",
       "      <td>6/23/2014 0:00:00</td>\n",
       "      <td>240000</td>\n",
       "      <td>200</td>\n",
       "    </tr>\n",
       "    <tr>\n",
       "      <td>8</td>\n",
       "      <td>US</td>\n",
       "      <td>West</td>\n",
       "      <td>Thomas</td>\n",
       "      <td>2/17/2016 0:00:00</td>\n",
       "      <td>26000000</td>\n",
       "      <td>1000</td>\n",
       "    </tr>\n",
       "    <tr>\n",
       "      <td>9</td>\n",
       "      <td>UK</td>\n",
       "      <td>North</td>\n",
       "      <td>John</td>\n",
       "      <td>11/11/2015 0:00:00</td>\n",
       "      <td>100000</td>\n",
       "      <td>1000</td>\n",
       "    </tr>\n",
       "    <tr>\n",
       "      <td>10</td>\n",
       "      <td>Australia</td>\n",
       "      <td>North</td>\n",
       "      <td>Bill</td>\n",
       "      <td>11/24/2015 0:00:00</td>\n",
       "      <td>120000</td>\n",
       "      <td>567</td>\n",
       "    </tr>\n",
       "    <tr>\n",
       "      <td>11</td>\n",
       "      <td>Africa</td>\n",
       "      <td>North</td>\n",
       "      <td>Thomas</td>\n",
       "      <td>9/2/2011 0:00:00</td>\n",
       "      <td>140000</td>\n",
       "      <td>1000</td>\n",
       "    </tr>\n",
       "    <tr>\n",
       "      <td>12</td>\n",
       "      <td>Singapore</td>\n",
       "      <td>East</td>\n",
       "      <td>John</td>\n",
       "      <td>5/28/2016 0:00:00</td>\n",
       "      <td>160000</td>\n",
       "      <td>892</td>\n",
       "    </tr>\n",
       "    <tr>\n",
       "      <td>13</td>\n",
       "      <td>Mylasia</td>\n",
       "      <td>East</td>\n",
       "      <td>Bill</td>\n",
       "      <td>9/2/2012 0:00:00</td>\n",
       "      <td>180000</td>\n",
       "      <td>444</td>\n",
       "    </tr>\n",
       "    <tr>\n",
       "      <td>14</td>\n",
       "      <td>India</td>\n",
       "      <td>East</td>\n",
       "      <td>Thomas</td>\n",
       "      <td>5/15/2013 0:00:00</td>\n",
       "      <td>200000</td>\n",
       "      <td>90</td>\n",
       "    </tr>\n",
       "    <tr>\n",
       "      <td>15</td>\n",
       "      <td>US</td>\n",
       "      <td>West</td>\n",
       "      <td>John</td>\n",
       "      <td>12/28/2014 0:00:00</td>\n",
       "      <td>220000</td>\n",
       "      <td>90</td>\n",
       "    </tr>\n",
       "    <tr>\n",
       "      <td>16</td>\n",
       "      <td>UK</td>\n",
       "      <td>West</td>\n",
       "      <td>Bill</td>\n",
       "      <td>5/10/2018 0:00:00</td>\n",
       "      <td>240000</td>\n",
       "      <td>90</td>\n",
       "    </tr>\n",
       "    <tr>\n",
       "      <td>17</td>\n",
       "      <td>Australia</td>\n",
       "      <td>West</td>\n",
       "      <td>Thomas</td>\n",
       "      <td>10/21/2012 0:00:00</td>\n",
       "      <td>260000</td>\n",
       "      <td>90</td>\n",
       "    </tr>\n",
       "    <tr>\n",
       "      <td>18</td>\n",
       "      <td>Africa</td>\n",
       "      <td>North</td>\n",
       "      <td>John</td>\n",
       "      <td>7/13/2010 0:00:00</td>\n",
       "      <td>140000</td>\n",
       "      <td>85</td>\n",
       "    </tr>\n",
       "    <tr>\n",
       "      <td>19</td>\n",
       "      <td>Singapore</td>\n",
       "      <td>North</td>\n",
       "      <td>Bill</td>\n",
       "      <td>9/5/2012 0:00:00</td>\n",
       "      <td>150000</td>\n",
       "      <td>85</td>\n",
       "    </tr>\n",
       "  </tbody>\n",
       "</table>\n",
       "</div>"
      ],
      "text/plain": [
       "      Country Region Sales Person    Date of Purchase     Total  Quantity\n",
       "0       India  North         John   1/23/2014 0:00:00    100000       567\n",
       "1          US  North         Bill   10/9/2017 0:00:00    120000      3000\n",
       "2          UK  North       Thomas   5/17/2010 0:00:00    140000       345\n",
       "3   Australia   East         John   1/11/2015 0:00:00    160000      1000\n",
       "4      Africa   East         Bill   7/21/2011 0:00:00    180000       123\n",
       "5   Singapore   East       Thomas   6/10/2015 0:00:00    200000      1000\n",
       "6     Mylasia   West         John   5/14/2012 0:00:00   1000000      7890\n",
       "7       India   West         Bill   6/23/2014 0:00:00    240000       200\n",
       "8          US   West       Thomas   2/17/2016 0:00:00  26000000      1000\n",
       "9          UK  North         John  11/11/2015 0:00:00    100000      1000\n",
       "10  Australia  North         Bill  11/24/2015 0:00:00    120000       567\n",
       "11     Africa  North       Thomas    9/2/2011 0:00:00    140000      1000\n",
       "12  Singapore   East         John   5/28/2016 0:00:00    160000       892\n",
       "13    Mylasia   East         Bill    9/2/2012 0:00:00    180000       444\n",
       "14      India   East       Thomas   5/15/2013 0:00:00    200000        90\n",
       "15         US   West         John  12/28/2014 0:00:00    220000        90\n",
       "16         UK   West         Bill   5/10/2018 0:00:00    240000        90\n",
       "17  Australia   West       Thomas  10/21/2012 0:00:00    260000        90\n",
       "18     Africa  North         John   7/13/2010 0:00:00    140000        85\n",
       "19  Singapore  North         Bill    9/5/2012 0:00:00    150000        85"
      ]
     },
     "execution_count": 93,
     "metadata": {},
     "output_type": "execute_result"
    }
   ],
   "source": [
    "import pandas\n",
    "df = pandas.read_csv('Pandas - Q1 Sales.csv')\n",
    "df"
   ]
  },
  {
   "cell_type": "code",
   "execution_count": 94,
   "metadata": {
    "scrolled": true
   },
   "outputs": [
    {
     "data": {
      "text/html": [
       "<div>\n",
       "<style scoped>\n",
       "    .dataframe tbody tr th:only-of-type {\n",
       "        vertical-align: middle;\n",
       "    }\n",
       "\n",
       "    .dataframe tbody tr th {\n",
       "        vertical-align: top;\n",
       "    }\n",
       "\n",
       "    .dataframe thead th {\n",
       "        text-align: right;\n",
       "    }\n",
       "</style>\n",
       "<table border=\"1\" class=\"dataframe\">\n",
       "  <thead>\n",
       "    <tr style=\"text-align: right;\">\n",
       "      <th></th>\n",
       "      <th>Country</th>\n",
       "      <th>Region</th>\n",
       "      <th>Sales Person</th>\n",
       "      <th>Date of Purchase</th>\n",
       "      <th>Total</th>\n",
       "      <th>Quantity</th>\n",
       "    </tr>\n",
       "  </thead>\n",
       "  <tbody>\n",
       "    <tr>\n",
       "      <td>0</td>\n",
       "      <td>India</td>\n",
       "      <td>North</td>\n",
       "      <td>John</td>\n",
       "      <td>1/23/2014 0:00:00</td>\n",
       "      <td>100000</td>\n",
       "      <td>567</td>\n",
       "    </tr>\n",
       "    <tr>\n",
       "      <td>1</td>\n",
       "      <td>US</td>\n",
       "      <td>North</td>\n",
       "      <td>Bill</td>\n",
       "      <td>10/9/2017 0:00:00</td>\n",
       "      <td>120000</td>\n",
       "      <td>3000</td>\n",
       "    </tr>\n",
       "    <tr>\n",
       "      <td>2</td>\n",
       "      <td>UK</td>\n",
       "      <td>North</td>\n",
       "      <td>Thomas</td>\n",
       "      <td>5/17/2010 0:00:00</td>\n",
       "      <td>140000</td>\n",
       "      <td>345</td>\n",
       "    </tr>\n",
       "    <tr>\n",
       "      <td>3</td>\n",
       "      <td>Australia</td>\n",
       "      <td>East</td>\n",
       "      <td>John</td>\n",
       "      <td>1/11/2015 0:00:00</td>\n",
       "      <td>160000</td>\n",
       "      <td>1000</td>\n",
       "    </tr>\n",
       "    <tr>\n",
       "      <td>4</td>\n",
       "      <td>Africa</td>\n",
       "      <td>East</td>\n",
       "      <td>Bill</td>\n",
       "      <td>7/21/2011 0:00:00</td>\n",
       "      <td>180000</td>\n",
       "      <td>123</td>\n",
       "    </tr>\n",
       "  </tbody>\n",
       "</table>\n",
       "</div>"
      ],
      "text/plain": [
       "     Country Region Sales Person   Date of Purchase   Total  Quantity\n",
       "0      India  North         John  1/23/2014 0:00:00  100000       567\n",
       "1         US  North         Bill  10/9/2017 0:00:00  120000      3000\n",
       "2         UK  North       Thomas  5/17/2010 0:00:00  140000       345\n",
       "3  Australia   East         John  1/11/2015 0:00:00  160000      1000\n",
       "4     Africa   East         Bill  7/21/2011 0:00:00  180000       123"
      ]
     },
     "execution_count": 94,
     "metadata": {},
     "output_type": "execute_result"
    }
   ],
   "source": [
    "df.head()"
   ]
  },
  {
   "cell_type": "code",
   "execution_count": 8,
   "metadata": {},
   "outputs": [
    {
     "data": {
      "text/plain": [
       "0    3\n",
       "1    4\n",
       "2    9\n",
       "3    9\n",
       "4    5\n",
       "dtype: int32"
      ]
     },
     "execution_count": 8,
     "metadata": {},
     "output_type": "execute_result"
    }
   ],
   "source": [
    "# Load data from np.array\n",
    "a1= pd.Series(np.random.randint(10, size = 5))\n",
    "a1"
   ]
  },
  {
   "cell_type": "code",
   "execution_count": 9,
   "metadata": {},
   "outputs": [
    {
     "data": {
      "text/plain": [
       "pandas.core.series.Series"
      ]
     },
     "execution_count": 9,
     "metadata": {},
     "output_type": "execute_result"
    }
   ],
   "source": [
    "type(a1)"
   ]
  },
  {
   "cell_type": "code",
   "execution_count": 10,
   "metadata": {},
   "outputs": [
    {
     "data": {
      "text/plain": [
       "a    1\n",
       "b    0\n",
       "c    6\n",
       "d    7\n",
       "e    6\n",
       "dtype: int32"
      ]
     },
     "execution_count": 10,
     "metadata": {},
     "output_type": "execute_result"
    }
   ],
   "source": [
    "a2= pd.Series(np.random.randint(10, size = 5), index =['a','b', 'c', 'd', 'e'])\n",
    "a2"
   ]
  },
  {
   "cell_type": "code",
   "execution_count": 12,
   "metadata": {},
   "outputs": [
    {
     "data": {
      "text/plain": [
       "1"
      ]
     },
     "execution_count": 12,
     "metadata": {},
     "output_type": "execute_result"
    }
   ],
   "source": [
    "a2['a'] # thao tác giống Dictionary"
   ]
  },
  {
   "cell_type": "code",
   "execution_count": 13,
   "metadata": {},
   "outputs": [
    {
     "data": {
      "text/plain": [
       "a    21\n",
       "b    22\n",
       "c    23\n",
       "d    24\n",
       "e    34\n",
       "dtype: int64"
      ]
     },
     "execution_count": 13,
     "metadata": {},
     "output_type": "execute_result"
    }
   ],
   "source": [
    "a3= pd.Series({'a': 21, 'b': 22, 'c': 23, 'd': 24, 'e': 34})\n",
    "a3"
   ]
  },
  {
   "cell_type": "code",
   "execution_count": 25,
   "metadata": {},
   "outputs": [
    {
     "data": {
      "text/plain": [
       "0    3\n",
       "1    3\n",
       "2    3\n",
       "3    3\n",
       "4    3\n",
       "5    3\n",
       "dtype: int64"
      ]
     },
     "execution_count": 25,
     "metadata": {},
     "output_type": "execute_result"
    }
   ],
   "source": [
    "a4= pd.Series(3, index=[0,1,2,3,4,5])\n",
    "a4"
   ]
  },
  {
   "cell_type": "code",
   "execution_count": 26,
   "metadata": {},
   "outputs": [
    {
     "data": {
      "text/plain": [
       "b    22\n",
       "c    23\n",
       "dtype: int64"
      ]
     },
     "execution_count": 26,
     "metadata": {},
     "output_type": "execute_result"
    }
   ],
   "source": [
    "a3['b':'c']"
   ]
  },
  {
   "cell_type": "code",
   "execution_count": 27,
   "metadata": {},
   "outputs": [
    {
     "data": {
      "text/plain": [
       "India        2\n",
       "US           4\n",
       "UK           7\n",
       "Australia    3\n",
       "Africa       0\n",
       "Singapore    9\n",
       "Mylaysia     0\n",
       "Thailand     0\n",
       "Vietnam      3\n",
       "Laos         4\n",
       "dtype: int32"
      ]
     },
     "execution_count": 27,
     "metadata": {},
     "output_type": "execute_result"
    }
   ],
   "source": [
    "s = ['India',\n",
    "'US',\n",
    "'UK',\n",
    "'Australia',\n",
    "'Africa',\n",
    "'Singapore',\n",
    "'Mylaysia',\n",
    "'Thailand',\n",
    "'Vietnam',\n",
    "'Laos']\n",
    "s5 = pd.Series(np.random.randint(10, size = 10), index=s)\n",
    "s5"
   ]
  },
  {
   "cell_type": "code",
   "execution_count": 29,
   "metadata": {},
   "outputs": [
    {
     "data": {
      "text/plain": [
       "UK           7\n",
       "Australia    3\n",
       "Africa       0\n",
       "Singapore    9\n",
       "Mylaysia     0\n",
       "Thailand     0\n",
       "Vietnam      3\n",
       "dtype: int32"
      ]
     },
     "execution_count": 29,
     "metadata": {},
     "output_type": "execute_result"
    }
   ],
   "source": [
    "s5['UK':'Vietnam']"
   ]
  },
  {
   "cell_type": "code",
   "execution_count": 30,
   "metadata": {},
   "outputs": [
    {
     "data": {
      "text/plain": [
       "3.0"
      ]
     },
     "execution_count": 30,
     "metadata": {},
     "output_type": "execute_result"
    }
   ],
   "source": [
    "s5.median() #giá trị trung bình"
   ]
  },
  {
   "cell_type": "code",
   "execution_count": 34,
   "metadata": {},
   "outputs": [
    {
     "name": "stdout",
     "output_type": "stream",
     "text": [
      "US           4\n",
      "UK           7\n",
      "Singapore    9\n",
      "Laos         4\n",
      "dtype: int32\n",
      "-----------------------------------------------\n",
      "India       2\n",
      "US          4\n",
      "Africa      0\n",
      "Mylaysia    0\n",
      "Thailand    0\n",
      "Laos        4\n",
      "dtype: int32\n"
     ]
    }
   ],
   "source": [
    "a1 = s5[s5 > 3] #lấy các giá trị lớn hơn 3\n",
    "print(a1)\n",
    "\n",
    "print('-----------------------------------------------')\n",
    "a2 = s5[(s5 % 2) == 0] #lấy các giá trị lớn hơn 3\n",
    "print(a2)"
   ]
  },
  {
   "cell_type": "code",
   "execution_count": 45,
   "metadata": {},
   "outputs": [
    {
     "name": "stdout",
     "output_type": "stream",
     "text": [
      "India        2\n",
      "US           4\n",
      "UK           7\n",
      "Australia    3\n",
      "Africa       0\n",
      "Singapore    9\n",
      "Mylaysia     0\n",
      "Thailand     0\n",
      "Vietnam      3\n",
      "Laos         4\n",
      "dtype: int32\n",
      "----------------------------\n"
     ]
    },
    {
     "data": {
      "text/plain": [
       "India        False\n",
       "US            True\n",
       "UK            True\n",
       "Australia    False\n",
       "Africa       False\n",
       "Singapore     True\n",
       "Mylaysia     False\n",
       "Thailand     False\n",
       "Vietnam      False\n",
       "Laos          True\n",
       "dtype: bool"
      ]
     },
     "execution_count": 45,
     "metadata": {},
     "output_type": "execute_result"
    }
   ],
   "source": [
    "print(s5)\n",
    "print('----------------------------')\n",
    "t = s5 > s5.median()\n",
    "t"
   ]
  },
  {
   "cell_type": "code",
   "execution_count": 36,
   "metadata": {},
   "outputs": [
    {
     "data": {
      "text/plain": [
       "US           4\n",
       "UK           7\n",
       "Singapore    9\n",
       "Laos         4\n",
       "dtype: int32"
      ]
     },
     "execution_count": 36,
     "metadata": {},
     "output_type": "execute_result"
    }
   ],
   "source": [
    "a3 = s5[s5 > s5.median()]\n",
    "a3"
   ]
  },
  {
   "cell_type": "code",
   "execution_count": 43,
   "metadata": {},
   "outputs": [
    {
     "name": "stdout",
     "output_type": "stream",
     "text": [
      "India        2\n",
      "US           4\n",
      "UK           7\n",
      "Australia    3\n",
      "Africa       0\n",
      "Singapore    9\n",
      "Mylaysia     0\n",
      "Thailand     0\n",
      "Vietnam      3\n",
      "Laos         4\n",
      "dtype: int32\n",
      "------------------\n"
     ]
    },
    {
     "data": {
      "text/plain": [
       "India    2\n",
       "US       4\n",
       "UK       7\n",
       "dtype: int32"
      ]
     },
     "execution_count": 43,
     "metadata": {},
     "output_type": "execute_result"
    }
   ],
   "source": [
    "print(s5)\n",
    "print('------------------')\n",
    "s5.head(3)"
   ]
  },
  {
   "cell_type": "code",
   "execution_count": 44,
   "metadata": {},
   "outputs": [
    {
     "name": "stdout",
     "output_type": "stream",
     "text": [
      "India        2\n",
      "US           4\n",
      "UK           7\n",
      "Australia    3\n",
      "Africa       0\n",
      "Singapore    9\n",
      "Mylaysia     0\n",
      "Thailand     0\n",
      "Vietnam      3\n",
      "Laos         4\n",
      "dtype: int32\n",
      "-------- index là 1 số âm --------\n"
     ]
    },
    {
     "data": {
      "text/plain": [
       "India        2\n",
       "US           4\n",
       "UK           7\n",
       "Australia    3\n",
       "Africa       0\n",
       "Singapore    9\n",
       "Mylaysia     0\n",
       "dtype: int32"
      ]
     },
     "execution_count": 44,
     "metadata": {},
     "output_type": "execute_result"
    }
   ],
   "source": [
    "print(s5)\n",
    "print('-------- index là 1 số âm --------')\n",
    "s5.head(-3)"
   ]
  },
  {
   "cell_type": "code",
   "execution_count": 47,
   "metadata": {},
   "outputs": [
    {
     "name": "stdout",
     "output_type": "stream",
     "text": [
      "India        2\n",
      "US           4\n",
      "UK           7\n",
      "Australia    3\n",
      "Africa       0\n",
      "Singapore    9\n",
      "Mylaysia     0\n",
      "Thailand     0\n",
      "Vietnam      3\n",
      "Laos         4\n",
      "dtype: int32\n",
      "-------------s5.tail(3) --------\n",
      "Thailand    0\n",
      "Vietnam     3\n",
      "Laos        4\n",
      "dtype: int32\n",
      "-------------s5.tail(-3) --------\n",
      "Australia    3\n",
      "Africa       0\n",
      "Singapore    9\n",
      "Mylaysia     0\n",
      "Thailand     0\n",
      "Vietnam      3\n",
      "Laos         4\n",
      "dtype: int32\n"
     ]
    }
   ],
   "source": [
    "print(s5)\n",
    "\n",
    "print('-------------s5.tail(3) --------')\n",
    "print(s5.tail(3))\n",
    "\n",
    "print('-------------s5.tail(-3) --------')\n",
    "print(s5.tail(-3))"
   ]
  },
  {
   "cell_type": "markdown",
   "metadata": {},
   "source": [
    "# Broadcasting"
   ]
  },
  {
   "cell_type": "code",
   "execution_count": 49,
   "metadata": {},
   "outputs": [
    {
     "data": {
      "text/plain": [
       "mon    21\n",
       "tue    31\n",
       "wed    42\n",
       "thu    12\n",
       "fri    52\n",
       "sat    45\n",
       "sun    14\n",
       "dtype: int64"
      ]
     },
     "execution_count": 49,
     "metadata": {},
     "output_type": "execute_result"
    }
   ],
   "source": [
    "sd = pd.Series({'mon':21,'tue':31,'wed':42,'thu':12,'fri':52,'sat':45,'sun':14})\n",
    "sd"
   ]
  },
  {
   "cell_type": "code",
   "execution_count": 50,
   "metadata": {},
   "outputs": [
    {
     "data": {
      "text/plain": [
       "mon    21\n",
       "tue    31\n",
       "wed    42\n",
       "thu    12\n",
       "fri    52\n",
       "dtype: int64"
      ]
     },
     "execution_count": 50,
     "metadata": {},
     "output_type": "execute_result"
    }
   ],
   "source": [
    "sd1 = sd[:'fri']\n",
    "sd1"
   ]
  },
  {
   "cell_type": "code",
   "execution_count": 51,
   "metadata": {},
   "outputs": [
    {
     "data": {
      "text/plain": [
       "wed    42\n",
       "thu    12\n",
       "fri    52\n",
       "sat    45\n",
       "sun    14\n",
       "dtype: int64"
      ]
     },
     "execution_count": 51,
     "metadata": {},
     "output_type": "execute_result"
    }
   ],
   "source": [
    "sd2 = sd['wed':]\n",
    "sd2"
   ]
  },
  {
   "cell_type": "code",
   "execution_count": 52,
   "metadata": {},
   "outputs": [
    {
     "data": {
      "text/plain": [
       "fri    2704.0\n",
       "mon       NaN\n",
       "sat       NaN\n",
       "sun       NaN\n",
       "thu     144.0\n",
       "tue       NaN\n",
       "wed    1764.0\n",
       "dtype: float64"
      ]
     },
     "execution_count": 52,
     "metadata": {},
     "output_type": "execute_result"
    }
   ],
   "source": [
    "sd1 * sd2"
   ]
  },
  {
   "cell_type": "code",
   "execution_count": 55,
   "metadata": {},
   "outputs": [
    {
     "name": "stdout",
     "output_type": "stream",
     "text": [
      "mon    21\n",
      "tue    31\n",
      "wed    42\n",
      "thu    12\n",
      "fri    52\n",
      "sat    45\n",
      "sun    14\n",
      "dtype: int64\n",
      "----------sd[(sd < 25) | (sd > 50)]-----------\n"
     ]
    },
    {
     "data": {
      "text/plain": [
       "mon    21\n",
       "thu    12\n",
       "fri    52\n",
       "sun    14\n",
       "dtype: int64"
      ]
     },
     "execution_count": 55,
     "metadata": {},
     "output_type": "execute_result"
    }
   ],
   "source": [
    "print(sd)\n",
    "print('----------sd[(sd < 25) | (sd > 50)]-----------')\n",
    "sd[(sd < 25) | (sd > 50)]"
   ]
  },
  {
   "cell_type": "code",
   "execution_count": 74,
   "metadata": {},
   "outputs": [
    {
     "name": "stdout",
     "output_type": "stream",
     "text": [
      "mon    21\n",
      "tue    31\n",
      "wed    42\n",
      "thu    12\n",
      "fri    52\n",
      "sat    45\n",
      "sun    75\n",
      "dtype: int64\n",
      "----------sd[((sd > 25) & (sd < 50)) | (sd > 70)]-----------\n"
     ]
    },
    {
     "data": {
      "text/plain": [
       "tue    31\n",
       "wed    42\n",
       "sat    45\n",
       "sun    75\n",
       "dtype: int64"
      ]
     },
     "execution_count": 74,
     "metadata": {},
     "output_type": "execute_result"
    }
   ],
   "source": [
    "sd = pd.Series({'mon':21,'tue':31,'wed':42,'thu':12,'fri':52,'sat':45,'sun':75})\n",
    "print(sd)\n",
    "print('----------sd[((sd > 25) & (sd < 50)) | (sd > 70)]-----------')\n",
    "sd[((sd > 25) & (sd < 50)) | (sd > 70)]"
   ]
  },
  {
   "cell_type": "code",
   "execution_count": 75,
   "metadata": {},
   "outputs": [
    {
     "name": "stdout",
     "output_type": "stream",
     "text": [
      "mon    21\n",
      "tue    31\n",
      "wed    42\n",
      "thu    12\n",
      "fri    52\n",
      "sat    45\n",
      "sun    75\n",
      "dtype: int64\n",
      "----------sd[((sd > 25) & (sd < 50)) | (sd > 70)]-----------\n"
     ]
    },
    {
     "data": {
      "text/plain": [
       "tue    31\n",
       "wed    42\n",
       "sat    45\n",
       "sun    75\n",
       "dtype: int64"
      ]
     },
     "execution_count": 75,
     "metadata": {},
     "output_type": "execute_result"
    }
   ],
   "source": [
    "sd = pd.Series({'mon':21,'tue':31,'wed':42,'thu':12,'fri':52,'sat':45,'sun':75})\n",
    "print(sd)\n",
    "print('----------sd[((sd > 25) & (sd < 50)) | (sd > 70)]-----------')\n",
    "sd[(sd > 25) & ((sd < 50) | (sd > 70))]"
   ]
  },
  {
   "cell_type": "code",
   "execution_count": 76,
   "metadata": {},
   "outputs": [
    {
     "data": {
      "text/plain": [
       "fri    2704.0\n",
       "mon       NaN\n",
       "sat       NaN\n",
       "sun       NaN\n",
       "thu     144.0\n",
       "tue       NaN\n",
       "wed    1764.0\n",
       "dtype: float64"
      ]
     },
     "execution_count": 76,
     "metadata": {},
     "output_type": "execute_result"
    }
   ],
   "source": [
    "sd3 = sd1 * sd2\n",
    "sd3"
   ]
  },
  {
   "cell_type": "code",
   "execution_count": 80,
   "metadata": {},
   "outputs": [
    {
     "data": {
      "text/plain": [
       "fri    2704.0\n",
       "mon       0.1\n",
       "sat       0.1\n",
       "sun       0.1\n",
       "thu     144.0\n",
       "tue       0.1\n",
       "wed    1764.0\n",
       "dtype: float64"
      ]
     },
     "execution_count": 80,
     "metadata": {},
     "output_type": "execute_result"
    }
   ],
   "source": [
    "sd3.fillna(0.1)# fill các NAN bằng giá trị 0.1"
   ]
  },
  {
   "cell_type": "code",
   "execution_count": 81,
   "metadata": {},
   "outputs": [
    {
     "data": {
      "text/plain": [
       "fri    2704.0\n",
       "mon    2704.0\n",
       "sat    2704.0\n",
       "sun    2704.0\n",
       "thu     144.0\n",
       "tue     144.0\n",
       "wed    1764.0\n",
       "dtype: float64"
      ]
     },
     "execution_count": 81,
     "metadata": {},
     "output_type": "execute_result"
    }
   ],
   "source": [
    "sd3.ffill()# fill các NAN bằng giá trị đứng trước nó"
   ]
  },
  {
   "cell_type": "code",
   "execution_count": 99,
   "metadata": {
    "scrolled": true
   },
   "outputs": [
    {
     "data": {
      "text/plain": [
       "fri    2704.0\n",
       "thu     144.0\n",
       "wed    1764.0\n",
       "dtype: float64"
      ]
     },
     "execution_count": 99,
     "metadata": {},
     "output_type": "execute_result"
    }
   ],
   "source": [
    "sd3.dropna() # delete các NAN"
   ]
  },
  {
   "cell_type": "code",
   "execution_count": 102,
   "metadata": {},
   "outputs": [
    {
     "data": {
      "text/plain": [
       "0     13\n",
       "1     17\n",
       "2      5\n",
       "3     15\n",
       "4      3\n",
       "5      3\n",
       "6     13\n",
       "7     10\n",
       "8      9\n",
       "9      3\n",
       "10     8\n",
       "11    11\n",
       "12     6\n",
       "13     1\n",
       "14     6\n",
       "dtype: int32"
      ]
     },
     "execution_count": 102,
     "metadata": {},
     "output_type": "execute_result"
    }
   ],
   "source": [
    "n = 15\n",
    "s6 = pd.Series(np.random.randint(20, size = n))\n",
    "s6"
   ]
  },
  {
   "cell_type": "code",
   "execution_count": 103,
   "metadata": {},
   "outputs": [
    {
     "data": {
      "text/plain": [
       "5.2"
      ]
     },
     "execution_count": 103,
     "metadata": {},
     "output_type": "execute_result"
    }
   ],
   "source": [
    "s6.quantile(.3)"
   ]
  },
  {
   "cell_type": "code",
   "execution_count": 108,
   "metadata": {
    "scrolled": true
   },
   "outputs": [
    {
     "data": {
      "text/html": [
       "<div>\n",
       "<style scoped>\n",
       "    .dataframe tbody tr th:only-of-type {\n",
       "        vertical-align: middle;\n",
       "    }\n",
       "\n",
       "    .dataframe tbody tr th {\n",
       "        vertical-align: top;\n",
       "    }\n",
       "\n",
       "    .dataframe thead th {\n",
       "        text-align: right;\n",
       "    }\n",
       "</style>\n",
       "<table border=\"1\" class=\"dataframe\">\n",
       "  <thead>\n",
       "    <tr style=\"text-align: right;\">\n",
       "      <th></th>\n",
       "      <th>one</th>\n",
       "      <th>two</th>\n",
       "    </tr>\n",
       "  </thead>\n",
       "  <tbody>\n",
       "    <tr>\n",
       "      <td>a</td>\n",
       "      <td>1.0</td>\n",
       "      <td>1.0</td>\n",
       "    </tr>\n",
       "    <tr>\n",
       "      <td>b</td>\n",
       "      <td>2.0</td>\n",
       "      <td>2.0</td>\n",
       "    </tr>\n",
       "    <tr>\n",
       "      <td>c</td>\n",
       "      <td>3.0</td>\n",
       "      <td>3.0</td>\n",
       "    </tr>\n",
       "    <tr>\n",
       "      <td>d</td>\n",
       "      <td>NaN</td>\n",
       "      <td>4.0</td>\n",
       "    </tr>\n",
       "  </tbody>\n",
       "</table>\n",
       "</div>"
      ],
      "text/plain": [
       "   one  two\n",
       "a  1.0  1.0\n",
       "b  2.0  2.0\n",
       "c  3.0  3.0\n",
       "d  NaN  4.0"
      ]
     },
     "execution_count": 108,
     "metadata": {},
     "output_type": "execute_result"
    }
   ],
   "source": [
    "d = {'one':pd.Series([1., 2., 3.], index=['a','b','c']),\n",
    "'two':pd.Series([1., 2., 3., 4.], index=['a','b','c','d'])}\n",
    "df = pd.DataFrame(d)\n",
    "df"
   ]
  },
  {
   "cell_type": "code",
   "execution_count": 109,
   "metadata": {},
   "outputs": [
    {
     "data": {
      "text/plain": [
       "a    1.0\n",
       "b    2.0\n",
       "c    3.0\n",
       "d    NaN\n",
       "Name: one, dtype: float64"
      ]
     },
     "execution_count": 109,
     "metadata": {},
     "output_type": "execute_result"
    }
   ],
   "source": [
    "df['one'] # lấy theo colum"
   ]
  },
  {
   "cell_type": "code",
   "execution_count": 107,
   "metadata": {},
   "outputs": [
    {
     "data": {
      "text/html": [
       "<div>\n",
       "<style scoped>\n",
       "    .dataframe tbody tr th:only-of-type {\n",
       "        vertical-align: middle;\n",
       "    }\n",
       "\n",
       "    .dataframe tbody tr th {\n",
       "        vertical-align: top;\n",
       "    }\n",
       "\n",
       "    .dataframe thead th {\n",
       "        text-align: right;\n",
       "    }\n",
       "</style>\n",
       "<table border=\"1\" class=\"dataframe\">\n",
       "  <thead>\n",
       "    <tr style=\"text-align: right;\">\n",
       "      <th></th>\n",
       "      <th>0</th>\n",
       "      <th>1</th>\n",
       "      <th>2</th>\n",
       "    </tr>\n",
       "  </thead>\n",
       "  <tbody>\n",
       "    <tr>\n",
       "      <td>0</td>\n",
       "      <td>1</td>\n",
       "      <td>2.0</td>\n",
       "      <td>Hello</td>\n",
       "    </tr>\n",
       "    <tr>\n",
       "      <td>1</td>\n",
       "      <td>2</td>\n",
       "      <td>3.0</td>\n",
       "      <td>World</td>\n",
       "    </tr>\n",
       "  </tbody>\n",
       "</table>\n",
       "</div>"
      ],
      "text/plain": [
       "   0    1      2\n",
       "0  1  2.0  Hello\n",
       "1  2  3.0  World"
      ]
     },
     "execution_count": 107,
     "metadata": {},
     "output_type": "execute_result"
    }
   ],
   "source": [
    "d2 = [{1, 2., 'Hello'}, {2, 3., 'World'}]\n",
    "df2 = pd.DataFrame(d2)\n",
    "df2"
   ]
  },
  {
   "cell_type": "code",
   "execution_count": 110,
   "metadata": {},
   "outputs": [
    {
     "data": {
      "text/html": [
       "<div>\n",
       "<style scoped>\n",
       "    .dataframe tbody tr th:only-of-type {\n",
       "        vertical-align: middle;\n",
       "    }\n",
       "\n",
       "    .dataframe tbody tr th {\n",
       "        vertical-align: top;\n",
       "    }\n",
       "\n",
       "    .dataframe thead th {\n",
       "        text-align: right;\n",
       "    }\n",
       "</style>\n",
       "<table border=\"1\" class=\"dataframe\">\n",
       "  <thead>\n",
       "    <tr style=\"text-align: right;\">\n",
       "      <th></th>\n",
       "      <th>A</th>\n",
       "      <th>B</th>\n",
       "      <th>C</th>\n",
       "    </tr>\n",
       "  </thead>\n",
       "  <tbody>\n",
       "    <tr>\n",
       "      <td>0</td>\n",
       "      <td>1</td>\n",
       "      <td>2.0</td>\n",
       "      <td>Hello</td>\n",
       "    </tr>\n",
       "    <tr>\n",
       "      <td>1</td>\n",
       "      <td>2</td>\n",
       "      <td>3.0</td>\n",
       "      <td>World</td>\n",
       "    </tr>\n",
       "  </tbody>\n",
       "</table>\n",
       "</div>"
      ],
      "text/plain": [
       "   A    B      C\n",
       "0  1  2.0  Hello\n",
       "1  2  3.0  World"
      ]
     },
     "execution_count": 110,
     "metadata": {},
     "output_type": "execute_result"
    }
   ],
   "source": [
    "df3 = pd.DataFrame(d2, columns = ['A', 'B', 'C'])\n",
    "df3"
   ]
  },
  {
   "cell_type": "code",
   "execution_count": 112,
   "metadata": {},
   "outputs": [
    {
     "name": "stdout",
     "output_type": "stream",
     "text": [
      "     a   b     c\n",
      "r_1  1   2   NaN\n",
      "r_2  5  10  20.0\n",
      "---------------------\n",
      "   a   b\n",
      "0  1   2\n",
      "1  5  10\n"
     ]
    }
   ],
   "source": [
    "d3 = [{'a': 1, 'b':2}, {'a': 5, 'b':10, 'c': 20}]\n",
    "df4 = pd.DataFrame(d3, index = ['r_1', 'r_2'])\n",
    "df5 = pd.DataFrame(d3, columns = ['a', 'b']) \n",
    "print(df4)\n",
    "print('---------------------')\n",
    "print(df5)\n"
   ]
  },
  {
   "cell_type": "code",
   "execution_count": 113,
   "metadata": {},
   "outputs": [
    {
     "data": {
      "text/plain": [
       "(2, 3)"
      ]
     },
     "execution_count": 113,
     "metadata": {},
     "output_type": "execute_result"
    }
   ],
   "source": [
    "df4.shape"
   ]
  },
  {
   "cell_type": "code",
   "execution_count": 114,
   "metadata": {},
   "outputs": [
    {
     "data": {
      "text/plain": [
       "Index(['r_1', 'r_2'], dtype='object')"
      ]
     },
     "execution_count": 114,
     "metadata": {},
     "output_type": "execute_result"
    }
   ],
   "source": [
    "df4.index"
   ]
  },
  {
   "cell_type": "code",
   "execution_count": 115,
   "metadata": {},
   "outputs": [
    {
     "data": {
      "text/plain": [
       "Index(['a', 'b', 'c'], dtype='object')"
      ]
     },
     "execution_count": 115,
     "metadata": {},
     "output_type": "execute_result"
    }
   ],
   "source": [
    "df4.columns"
   ]
  },
  {
   "cell_type": "code",
   "execution_count": 146,
   "metadata": {
    "scrolled": true
   },
   "outputs": [
    {
     "data": {
      "text/html": [
       "<div>\n",
       "<style scoped>\n",
       "    .dataframe tbody tr th:only-of-type {\n",
       "        vertical-align: middle;\n",
       "    }\n",
       "\n",
       "    .dataframe tbody tr th {\n",
       "        vertical-align: top;\n",
       "    }\n",
       "\n",
       "    .dataframe thead th {\n",
       "        text-align: right;\n",
       "    }\n",
       "</style>\n",
       "<table border=\"1\" class=\"dataframe\">\n",
       "  <thead>\n",
       "    <tr style=\"text-align: right;\">\n",
       "      <th></th>\n",
       "      <th>sepal_length</th>\n",
       "      <th>sepal_width</th>\n",
       "      <th>petal_length</th>\n",
       "      <th>petal_width</th>\n",
       "      <th>class</th>\n",
       "    </tr>\n",
       "  </thead>\n",
       "  <tbody>\n",
       "    <tr>\n",
       "      <td>0</td>\n",
       "      <td>5.1</td>\n",
       "      <td>3.5</td>\n",
       "      <td>1.4</td>\n",
       "      <td>0.2</td>\n",
       "      <td>Iris-setosa</td>\n",
       "    </tr>\n",
       "    <tr>\n",
       "      <td>1</td>\n",
       "      <td>4.9</td>\n",
       "      <td>3.0</td>\n",
       "      <td>1.4</td>\n",
       "      <td>0.2</td>\n",
       "      <td>Iris-setosa</td>\n",
       "    </tr>\n",
       "    <tr>\n",
       "      <td>2</td>\n",
       "      <td>4.7</td>\n",
       "      <td>3.2</td>\n",
       "      <td>1.3</td>\n",
       "      <td>0.2</td>\n",
       "      <td>Iris-setosa</td>\n",
       "    </tr>\n",
       "    <tr>\n",
       "      <td>3</td>\n",
       "      <td>4.6</td>\n",
       "      <td>3.1</td>\n",
       "      <td>1.5</td>\n",
       "      <td>0.2</td>\n",
       "      <td>Iris-setosa</td>\n",
       "    </tr>\n",
       "    <tr>\n",
       "      <td>4</td>\n",
       "      <td>5.0</td>\n",
       "      <td>3.6</td>\n",
       "      <td>1.4</td>\n",
       "      <td>0.2</td>\n",
       "      <td>Iris-setosa</td>\n",
       "    </tr>\n",
       "    <tr>\n",
       "      <td>...</td>\n",
       "      <td>...</td>\n",
       "      <td>...</td>\n",
       "      <td>...</td>\n",
       "      <td>...</td>\n",
       "      <td>...</td>\n",
       "    </tr>\n",
       "    <tr>\n",
       "      <td>145</td>\n",
       "      <td>6.7</td>\n",
       "      <td>3.0</td>\n",
       "      <td>5.2</td>\n",
       "      <td>2.3</td>\n",
       "      <td>Iris-virginica</td>\n",
       "    </tr>\n",
       "    <tr>\n",
       "      <td>146</td>\n",
       "      <td>6.3</td>\n",
       "      <td>2.5</td>\n",
       "      <td>5.0</td>\n",
       "      <td>1.9</td>\n",
       "      <td>Iris-virginica</td>\n",
       "    </tr>\n",
       "    <tr>\n",
       "      <td>147</td>\n",
       "      <td>6.5</td>\n",
       "      <td>3.0</td>\n",
       "      <td>5.2</td>\n",
       "      <td>2.0</td>\n",
       "      <td>Iris-virginica</td>\n",
       "    </tr>\n",
       "    <tr>\n",
       "      <td>148</td>\n",
       "      <td>6.2</td>\n",
       "      <td>3.4</td>\n",
       "      <td>5.4</td>\n",
       "      <td>2.3</td>\n",
       "      <td>Iris-virginica</td>\n",
       "    </tr>\n",
       "    <tr>\n",
       "      <td>149</td>\n",
       "      <td>5.9</td>\n",
       "      <td>3.0</td>\n",
       "      <td>5.1</td>\n",
       "      <td>1.8</td>\n",
       "      <td>Iris-virginica</td>\n",
       "    </tr>\n",
       "  </tbody>\n",
       "</table>\n",
       "<p>150 rows × 5 columns</p>\n",
       "</div>"
      ],
      "text/plain": [
       "     sepal_length  sepal_width  petal_length  petal_width           class\n",
       "0             5.1          3.5           1.4          0.2     Iris-setosa\n",
       "1             4.9          3.0           1.4          0.2     Iris-setosa\n",
       "2             4.7          3.2           1.3          0.2     Iris-setosa\n",
       "3             4.6          3.1           1.5          0.2     Iris-setosa\n",
       "4             5.0          3.6           1.4          0.2     Iris-setosa\n",
       "..            ...          ...           ...          ...             ...\n",
       "145           6.7          3.0           5.2          2.3  Iris-virginica\n",
       "146           6.3          2.5           5.0          1.9  Iris-virginica\n",
       "147           6.5          3.0           5.2          2.0  Iris-virginica\n",
       "148           6.2          3.4           5.4          2.3  Iris-virginica\n",
       "149           5.9          3.0           5.1          1.8  Iris-virginica\n",
       "\n",
       "[150 rows x 5 columns]"
      ]
     },
     "execution_count": 146,
     "metadata": {},
     "output_type": "execute_result"
    }
   ],
   "source": [
    "df = pandas.read_csv('iris.data')\n",
    "df"
   ]
  },
  {
   "cell_type": "code",
   "execution_count": 139,
   "metadata": {
    "scrolled": true
   },
   "outputs": [
    {
     "data": {
      "text/html": [
       "<div>\n",
       "<style scoped>\n",
       "    .dataframe tbody tr th:only-of-type {\n",
       "        vertical-align: middle;\n",
       "    }\n",
       "\n",
       "    .dataframe tbody tr th {\n",
       "        vertical-align: top;\n",
       "    }\n",
       "\n",
       "    .dataframe thead th {\n",
       "        text-align: right;\n",
       "    }\n",
       "</style>\n",
       "<table border=\"1\" class=\"dataframe\">\n",
       "  <thead>\n",
       "    <tr style=\"text-align: right;\">\n",
       "      <th></th>\n",
       "      <th>sepal_length</th>\n",
       "      <th>sepal_width</th>\n",
       "      <th>petal_length</th>\n",
       "      <th>petal_width</th>\n",
       "      <th>class</th>\n",
       "    </tr>\n",
       "  </thead>\n",
       "  <tbody>\n",
       "    <tr>\n",
       "      <td>0</td>\n",
       "      <td>5.1</td>\n",
       "      <td>3.5</td>\n",
       "      <td>1.4</td>\n",
       "      <td>0.2</td>\n",
       "      <td>Iris-setosa</td>\n",
       "    </tr>\n",
       "    <tr>\n",
       "      <td>1</td>\n",
       "      <td>4.9</td>\n",
       "      <td>3.0</td>\n",
       "      <td>1.4</td>\n",
       "      <td>0.2</td>\n",
       "      <td>Iris-setosa</td>\n",
       "    </tr>\n",
       "    <tr>\n",
       "      <td>2</td>\n",
       "      <td>4.7</td>\n",
       "      <td>3.2</td>\n",
       "      <td>1.3</td>\n",
       "      <td>0.2</td>\n",
       "      <td>Iris-setosa</td>\n",
       "    </tr>\n",
       "    <tr>\n",
       "      <td>3</td>\n",
       "      <td>4.6</td>\n",
       "      <td>3.1</td>\n",
       "      <td>1.5</td>\n",
       "      <td>0.2</td>\n",
       "      <td>Iris-setosa</td>\n",
       "    </tr>\n",
       "    <tr>\n",
       "      <td>4</td>\n",
       "      <td>5.0</td>\n",
       "      <td>3.6</td>\n",
       "      <td>1.4</td>\n",
       "      <td>0.2</td>\n",
       "      <td>Iris-setosa</td>\n",
       "    </tr>\n",
       "    <tr>\n",
       "      <td>5</td>\n",
       "      <td>5.4</td>\n",
       "      <td>3.9</td>\n",
       "      <td>1.7</td>\n",
       "      <td>0.4</td>\n",
       "      <td>Iris-setosa</td>\n",
       "    </tr>\n",
       "    <tr>\n",
       "      <td>6</td>\n",
       "      <td>4.6</td>\n",
       "      <td>3.4</td>\n",
       "      <td>1.4</td>\n",
       "      <td>0.3</td>\n",
       "      <td>Iris-setosa</td>\n",
       "    </tr>\n",
       "    <tr>\n",
       "      <td>7</td>\n",
       "      <td>5.0</td>\n",
       "      <td>3.4</td>\n",
       "      <td>1.5</td>\n",
       "      <td>0.2</td>\n",
       "      <td>Iris-setosa</td>\n",
       "    </tr>\n",
       "    <tr>\n",
       "      <td>8</td>\n",
       "      <td>4.4</td>\n",
       "      <td>2.9</td>\n",
       "      <td>1.4</td>\n",
       "      <td>0.2</td>\n",
       "      <td>Iris-setosa</td>\n",
       "    </tr>\n",
       "    <tr>\n",
       "      <td>9</td>\n",
       "      <td>4.9</td>\n",
       "      <td>3.1</td>\n",
       "      <td>1.5</td>\n",
       "      <td>0.1</td>\n",
       "      <td>Iris-setosa</td>\n",
       "    </tr>\n",
       "    <tr>\n",
       "      <td>10</td>\n",
       "      <td>5.4</td>\n",
       "      <td>3.7</td>\n",
       "      <td>1.5</td>\n",
       "      <td>0.2</td>\n",
       "      <td>Iris-setosa</td>\n",
       "    </tr>\n",
       "    <tr>\n",
       "      <td>11</td>\n",
       "      <td>4.8</td>\n",
       "      <td>3.4</td>\n",
       "      <td>1.6</td>\n",
       "      <td>0.2</td>\n",
       "      <td>Iris-setosa</td>\n",
       "    </tr>\n",
       "    <tr>\n",
       "      <td>12</td>\n",
       "      <td>4.8</td>\n",
       "      <td>3.0</td>\n",
       "      <td>1.4</td>\n",
       "      <td>0.1</td>\n",
       "      <td>Iris-setosa</td>\n",
       "    </tr>\n",
       "    <tr>\n",
       "      <td>13</td>\n",
       "      <td>4.3</td>\n",
       "      <td>3.0</td>\n",
       "      <td>1.1</td>\n",
       "      <td>0.1</td>\n",
       "      <td>Iris-setosa</td>\n",
       "    </tr>\n",
       "    <tr>\n",
       "      <td>14</td>\n",
       "      <td>5.8</td>\n",
       "      <td>4.0</td>\n",
       "      <td>1.2</td>\n",
       "      <td>0.2</td>\n",
       "      <td>Iris-setosa</td>\n",
       "    </tr>\n",
       "    <tr>\n",
       "      <td>15</td>\n",
       "      <td>5.7</td>\n",
       "      <td>4.4</td>\n",
       "      <td>1.5</td>\n",
       "      <td>0.4</td>\n",
       "      <td>Iris-setosa</td>\n",
       "    </tr>\n",
       "    <tr>\n",
       "      <td>16</td>\n",
       "      <td>5.4</td>\n",
       "      <td>3.9</td>\n",
       "      <td>1.3</td>\n",
       "      <td>0.4</td>\n",
       "      <td>Iris-setosa</td>\n",
       "    </tr>\n",
       "    <tr>\n",
       "      <td>17</td>\n",
       "      <td>5.1</td>\n",
       "      <td>3.5</td>\n",
       "      <td>1.4</td>\n",
       "      <td>0.3</td>\n",
       "      <td>Iris-setosa</td>\n",
       "    </tr>\n",
       "    <tr>\n",
       "      <td>18</td>\n",
       "      <td>5.7</td>\n",
       "      <td>3.8</td>\n",
       "      <td>1.7</td>\n",
       "      <td>0.3</td>\n",
       "      <td>Iris-setosa</td>\n",
       "    </tr>\n",
       "    <tr>\n",
       "      <td>19</td>\n",
       "      <td>5.1</td>\n",
       "      <td>3.8</td>\n",
       "      <td>1.5</td>\n",
       "      <td>0.3</td>\n",
       "      <td>Iris-setosa</td>\n",
       "    </tr>\n",
       "    <tr>\n",
       "      <td>20</td>\n",
       "      <td>5.4</td>\n",
       "      <td>3.4</td>\n",
       "      <td>1.7</td>\n",
       "      <td>0.2</td>\n",
       "      <td>Iris-setosa</td>\n",
       "    </tr>\n",
       "    <tr>\n",
       "      <td>21</td>\n",
       "      <td>5.1</td>\n",
       "      <td>3.7</td>\n",
       "      <td>1.5</td>\n",
       "      <td>0.4</td>\n",
       "      <td>Iris-setosa</td>\n",
       "    </tr>\n",
       "    <tr>\n",
       "      <td>22</td>\n",
       "      <td>4.6</td>\n",
       "      <td>3.6</td>\n",
       "      <td>1.0</td>\n",
       "      <td>0.2</td>\n",
       "      <td>Iris-setosa</td>\n",
       "    </tr>\n",
       "    <tr>\n",
       "      <td>23</td>\n",
       "      <td>5.1</td>\n",
       "      <td>3.3</td>\n",
       "      <td>1.7</td>\n",
       "      <td>0.5</td>\n",
       "      <td>Iris-setosa</td>\n",
       "    </tr>\n",
       "    <tr>\n",
       "      <td>24</td>\n",
       "      <td>4.8</td>\n",
       "      <td>3.4</td>\n",
       "      <td>1.9</td>\n",
       "      <td>0.2</td>\n",
       "      <td>Iris-setosa</td>\n",
       "    </tr>\n",
       "    <tr>\n",
       "      <td>25</td>\n",
       "      <td>5.0</td>\n",
       "      <td>3.0</td>\n",
       "      <td>1.6</td>\n",
       "      <td>0.2</td>\n",
       "      <td>Iris-setosa</td>\n",
       "    </tr>\n",
       "    <tr>\n",
       "      <td>26</td>\n",
       "      <td>5.0</td>\n",
       "      <td>3.4</td>\n",
       "      <td>1.6</td>\n",
       "      <td>0.4</td>\n",
       "      <td>Iris-setosa</td>\n",
       "    </tr>\n",
       "    <tr>\n",
       "      <td>27</td>\n",
       "      <td>5.2</td>\n",
       "      <td>3.5</td>\n",
       "      <td>1.5</td>\n",
       "      <td>0.2</td>\n",
       "      <td>Iris-setosa</td>\n",
       "    </tr>\n",
       "    <tr>\n",
       "      <td>28</td>\n",
       "      <td>5.2</td>\n",
       "      <td>3.4</td>\n",
       "      <td>1.4</td>\n",
       "      <td>0.2</td>\n",
       "      <td>Iris-setosa</td>\n",
       "    </tr>\n",
       "    <tr>\n",
       "      <td>29</td>\n",
       "      <td>4.7</td>\n",
       "      <td>3.2</td>\n",
       "      <td>1.6</td>\n",
       "      <td>0.2</td>\n",
       "      <td>Iris-setosa</td>\n",
       "    </tr>\n",
       "    <tr>\n",
       "      <td>30</td>\n",
       "      <td>4.8</td>\n",
       "      <td>3.1</td>\n",
       "      <td>1.6</td>\n",
       "      <td>0.2</td>\n",
       "      <td>Iris-setosa</td>\n",
       "    </tr>\n",
       "    <tr>\n",
       "      <td>31</td>\n",
       "      <td>5.4</td>\n",
       "      <td>3.4</td>\n",
       "      <td>1.5</td>\n",
       "      <td>0.4</td>\n",
       "      <td>Iris-setosa</td>\n",
       "    </tr>\n",
       "    <tr>\n",
       "      <td>32</td>\n",
       "      <td>5.2</td>\n",
       "      <td>4.1</td>\n",
       "      <td>1.5</td>\n",
       "      <td>0.1</td>\n",
       "      <td>Iris-setosa</td>\n",
       "    </tr>\n",
       "    <tr>\n",
       "      <td>33</td>\n",
       "      <td>5.5</td>\n",
       "      <td>4.2</td>\n",
       "      <td>1.4</td>\n",
       "      <td>0.2</td>\n",
       "      <td>Iris-setosa</td>\n",
       "    </tr>\n",
       "    <tr>\n",
       "      <td>34</td>\n",
       "      <td>4.9</td>\n",
       "      <td>3.1</td>\n",
       "      <td>1.5</td>\n",
       "      <td>0.1</td>\n",
       "      <td>Iris-setosa</td>\n",
       "    </tr>\n",
       "    <tr>\n",
       "      <td>35</td>\n",
       "      <td>5.0</td>\n",
       "      <td>3.2</td>\n",
       "      <td>1.2</td>\n",
       "      <td>0.2</td>\n",
       "      <td>Iris-setosa</td>\n",
       "    </tr>\n",
       "    <tr>\n",
       "      <td>36</td>\n",
       "      <td>5.5</td>\n",
       "      <td>3.5</td>\n",
       "      <td>1.3</td>\n",
       "      <td>0.2</td>\n",
       "      <td>Iris-setosa</td>\n",
       "    </tr>\n",
       "    <tr>\n",
       "      <td>37</td>\n",
       "      <td>4.9</td>\n",
       "      <td>3.1</td>\n",
       "      <td>1.5</td>\n",
       "      <td>0.1</td>\n",
       "      <td>Iris-setosa</td>\n",
       "    </tr>\n",
       "    <tr>\n",
       "      <td>38</td>\n",
       "      <td>4.4</td>\n",
       "      <td>3.0</td>\n",
       "      <td>1.3</td>\n",
       "      <td>0.2</td>\n",
       "      <td>Iris-setosa</td>\n",
       "    </tr>\n",
       "    <tr>\n",
       "      <td>39</td>\n",
       "      <td>5.1</td>\n",
       "      <td>3.4</td>\n",
       "      <td>1.5</td>\n",
       "      <td>0.2</td>\n",
       "      <td>Iris-setosa</td>\n",
       "    </tr>\n",
       "    <tr>\n",
       "      <td>40</td>\n",
       "      <td>5.0</td>\n",
       "      <td>3.5</td>\n",
       "      <td>1.3</td>\n",
       "      <td>0.3</td>\n",
       "      <td>Iris-setosa</td>\n",
       "    </tr>\n",
       "    <tr>\n",
       "      <td>41</td>\n",
       "      <td>4.5</td>\n",
       "      <td>2.3</td>\n",
       "      <td>1.3</td>\n",
       "      <td>0.3</td>\n",
       "      <td>Iris-setosa</td>\n",
       "    </tr>\n",
       "    <tr>\n",
       "      <td>42</td>\n",
       "      <td>4.4</td>\n",
       "      <td>3.2</td>\n",
       "      <td>1.3</td>\n",
       "      <td>0.2</td>\n",
       "      <td>Iris-setosa</td>\n",
       "    </tr>\n",
       "    <tr>\n",
       "      <td>43</td>\n",
       "      <td>5.0</td>\n",
       "      <td>3.5</td>\n",
       "      <td>1.6</td>\n",
       "      <td>0.6</td>\n",
       "      <td>Iris-setosa</td>\n",
       "    </tr>\n",
       "    <tr>\n",
       "      <td>44</td>\n",
       "      <td>5.1</td>\n",
       "      <td>3.8</td>\n",
       "      <td>1.9</td>\n",
       "      <td>0.4</td>\n",
       "      <td>Iris-setosa</td>\n",
       "    </tr>\n",
       "    <tr>\n",
       "      <td>45</td>\n",
       "      <td>4.8</td>\n",
       "      <td>3.0</td>\n",
       "      <td>1.4</td>\n",
       "      <td>0.3</td>\n",
       "      <td>Iris-setosa</td>\n",
       "    </tr>\n",
       "    <tr>\n",
       "      <td>46</td>\n",
       "      <td>5.1</td>\n",
       "      <td>3.8</td>\n",
       "      <td>1.6</td>\n",
       "      <td>0.2</td>\n",
       "      <td>Iris-setosa</td>\n",
       "    </tr>\n",
       "    <tr>\n",
       "      <td>47</td>\n",
       "      <td>4.6</td>\n",
       "      <td>3.2</td>\n",
       "      <td>1.4</td>\n",
       "      <td>0.2</td>\n",
       "      <td>Iris-setosa</td>\n",
       "    </tr>\n",
       "    <tr>\n",
       "      <td>48</td>\n",
       "      <td>5.3</td>\n",
       "      <td>3.7</td>\n",
       "      <td>1.5</td>\n",
       "      <td>0.2</td>\n",
       "      <td>Iris-setosa</td>\n",
       "    </tr>\n",
       "    <tr>\n",
       "      <td>49</td>\n",
       "      <td>5.0</td>\n",
       "      <td>3.3</td>\n",
       "      <td>1.4</td>\n",
       "      <td>0.2</td>\n",
       "      <td>Iris-setosa</td>\n",
       "    </tr>\n",
       "  </tbody>\n",
       "</table>\n",
       "</div>"
      ],
      "text/plain": [
       "    sepal_length   sepal_width   petal_length   petal_width        class\n",
       "0            5.1           3.5            1.4           0.2  Iris-setosa\n",
       "1            4.9           3.0            1.4           0.2  Iris-setosa\n",
       "2            4.7           3.2            1.3           0.2  Iris-setosa\n",
       "3            4.6           3.1            1.5           0.2  Iris-setosa\n",
       "4            5.0           3.6            1.4           0.2  Iris-setosa\n",
       "5            5.4           3.9            1.7           0.4  Iris-setosa\n",
       "6            4.6           3.4            1.4           0.3  Iris-setosa\n",
       "7            5.0           3.4            1.5           0.2  Iris-setosa\n",
       "8            4.4           2.9            1.4           0.2  Iris-setosa\n",
       "9            4.9           3.1            1.5           0.1  Iris-setosa\n",
       "10           5.4           3.7            1.5           0.2  Iris-setosa\n",
       "11           4.8           3.4            1.6           0.2  Iris-setosa\n",
       "12           4.8           3.0            1.4           0.1  Iris-setosa\n",
       "13           4.3           3.0            1.1           0.1  Iris-setosa\n",
       "14           5.8           4.0            1.2           0.2  Iris-setosa\n",
       "15           5.7           4.4            1.5           0.4  Iris-setosa\n",
       "16           5.4           3.9            1.3           0.4  Iris-setosa\n",
       "17           5.1           3.5            1.4           0.3  Iris-setosa\n",
       "18           5.7           3.8            1.7           0.3  Iris-setosa\n",
       "19           5.1           3.8            1.5           0.3  Iris-setosa\n",
       "20           5.4           3.4            1.7           0.2  Iris-setosa\n",
       "21           5.1           3.7            1.5           0.4  Iris-setosa\n",
       "22           4.6           3.6            1.0           0.2  Iris-setosa\n",
       "23           5.1           3.3            1.7           0.5  Iris-setosa\n",
       "24           4.8           3.4            1.9           0.2  Iris-setosa\n",
       "25           5.0           3.0            1.6           0.2  Iris-setosa\n",
       "26           5.0           3.4            1.6           0.4  Iris-setosa\n",
       "27           5.2           3.5            1.5           0.2  Iris-setosa\n",
       "28           5.2           3.4            1.4           0.2  Iris-setosa\n",
       "29           4.7           3.2            1.6           0.2  Iris-setosa\n",
       "30           4.8           3.1            1.6           0.2  Iris-setosa\n",
       "31           5.4           3.4            1.5           0.4  Iris-setosa\n",
       "32           5.2           4.1            1.5           0.1  Iris-setosa\n",
       "33           5.5           4.2            1.4           0.2  Iris-setosa\n",
       "34           4.9           3.1            1.5           0.1  Iris-setosa\n",
       "35           5.0           3.2            1.2           0.2  Iris-setosa\n",
       "36           5.5           3.5            1.3           0.2  Iris-setosa\n",
       "37           4.9           3.1            1.5           0.1  Iris-setosa\n",
       "38           4.4           3.0            1.3           0.2  Iris-setosa\n",
       "39           5.1           3.4            1.5           0.2  Iris-setosa\n",
       "40           5.0           3.5            1.3           0.3  Iris-setosa\n",
       "41           4.5           2.3            1.3           0.3  Iris-setosa\n",
       "42           4.4           3.2            1.3           0.2  Iris-setosa\n",
       "43           5.0           3.5            1.6           0.6  Iris-setosa\n",
       "44           5.1           3.8            1.9           0.4  Iris-setosa\n",
       "45           4.8           3.0            1.4           0.3  Iris-setosa\n",
       "46           5.1           3.8            1.6           0.2  Iris-setosa\n",
       "47           4.6           3.2            1.4           0.2  Iris-setosa\n",
       "48           5.3           3.7            1.5           0.2  Iris-setosa\n",
       "49           5.0           3.3            1.4           0.2  Iris-setosa"
      ]
     },
     "execution_count": 139,
     "metadata": {},
     "output_type": "execute_result"
    }
   ],
   "source": [
    "df[df['class'] =='Iris-setosa' ]"
   ]
  },
  {
   "cell_type": "code",
   "execution_count": 134,
   "metadata": {
    "scrolled": true
   },
   "outputs": [
    {
     "ename": "SyntaxError",
     "evalue": "invalid syntax (<ipython-input-134-a93f9038fdff>, line 1)",
     "output_type": "error",
     "traceback": [
      "\u001b[1;36m  File \u001b[1;32m\"<ipython-input-134-a93f9038fdff>\"\u001b[1;36m, line \u001b[1;32m1\u001b[0m\n\u001b[1;33m    df[df['class'] = 2 if df['class'] =='Iris-setosa' ]\u001b[0m\n\u001b[1;37m                   ^\u001b[0m\n\u001b[1;31mSyntaxError\u001b[0m\u001b[1;31m:\u001b[0m invalid syntax\n"
     ]
    }
   ],
   "source": [
    "df[df['class'] = 2 if df['class'] =='Iris-setosa' ]"
   ]
  },
  {
   "cell_type": "code",
   "execution_count": 147,
   "metadata": {},
   "outputs": [
    {
     "data": {
      "text/plain": [
       "0      1.4\n",
       "1      1.4\n",
       "2      1.3\n",
       "3      1.5\n",
       "4      1.4\n",
       "      ... \n",
       "145    5.2\n",
       "146    5.0\n",
       "147    5.2\n",
       "148    5.4\n",
       "149    5.1\n",
       "Name: petal_length, Length: 150, dtype: float64"
      ]
     },
     "execution_count": 147,
     "metadata": {},
     "output_type": "execute_result"
    }
   ],
   "source": [
    "df['petal_length']"
   ]
  },
  {
   "cell_type": "code",
   "execution_count": 148,
   "metadata": {
    "scrolled": true
   },
   "outputs": [
    {
     "data": {
      "text/html": [
       "<div>\n",
       "<style scoped>\n",
       "    .dataframe tbody tr th:only-of-type {\n",
       "        vertical-align: middle;\n",
       "    }\n",
       "\n",
       "    .dataframe tbody tr th {\n",
       "        vertical-align: top;\n",
       "    }\n",
       "\n",
       "    .dataframe thead th {\n",
       "        text-align: right;\n",
       "    }\n",
       "</style>\n",
       "<table border=\"1\" class=\"dataframe\">\n",
       "  <thead>\n",
       "    <tr style=\"text-align: right;\">\n",
       "      <th></th>\n",
       "      <th>sepal_length</th>\n",
       "      <th>sepal_width</th>\n",
       "      <th>petal_length</th>\n",
       "      <th>petal_width</th>\n",
       "      <th>class</th>\n",
       "      <th>added</th>\n",
       "    </tr>\n",
       "  </thead>\n",
       "  <tbody>\n",
       "    <tr>\n",
       "      <td>0</td>\n",
       "      <td>5.1</td>\n",
       "      <td>3.5</td>\n",
       "      <td>1.4</td>\n",
       "      <td>0.2</td>\n",
       "      <td>Iris-setosa</td>\n",
       "      <td>3.7</td>\n",
       "    </tr>\n",
       "    <tr>\n",
       "      <td>1</td>\n",
       "      <td>4.9</td>\n",
       "      <td>3.0</td>\n",
       "      <td>1.4</td>\n",
       "      <td>0.2</td>\n",
       "      <td>Iris-setosa</td>\n",
       "      <td>3.5</td>\n",
       "    </tr>\n",
       "    <tr>\n",
       "      <td>2</td>\n",
       "      <td>4.7</td>\n",
       "      <td>3.2</td>\n",
       "      <td>1.3</td>\n",
       "      <td>0.2</td>\n",
       "      <td>Iris-setosa</td>\n",
       "      <td>3.4</td>\n",
       "    </tr>\n",
       "    <tr>\n",
       "      <td>3</td>\n",
       "      <td>4.6</td>\n",
       "      <td>3.1</td>\n",
       "      <td>1.5</td>\n",
       "      <td>0.2</td>\n",
       "      <td>Iris-setosa</td>\n",
       "      <td>3.1</td>\n",
       "    </tr>\n",
       "    <tr>\n",
       "      <td>4</td>\n",
       "      <td>5.0</td>\n",
       "      <td>3.6</td>\n",
       "      <td>1.4</td>\n",
       "      <td>0.2</td>\n",
       "      <td>Iris-setosa</td>\n",
       "      <td>3.6</td>\n",
       "    </tr>\n",
       "    <tr>\n",
       "      <td>...</td>\n",
       "      <td>...</td>\n",
       "      <td>...</td>\n",
       "      <td>...</td>\n",
       "      <td>...</td>\n",
       "      <td>...</td>\n",
       "      <td>...</td>\n",
       "    </tr>\n",
       "    <tr>\n",
       "      <td>145</td>\n",
       "      <td>6.7</td>\n",
       "      <td>3.0</td>\n",
       "      <td>5.2</td>\n",
       "      <td>2.3</td>\n",
       "      <td>Iris-virginica</td>\n",
       "      <td>1.5</td>\n",
       "    </tr>\n",
       "    <tr>\n",
       "      <td>146</td>\n",
       "      <td>6.3</td>\n",
       "      <td>2.5</td>\n",
       "      <td>5.0</td>\n",
       "      <td>1.9</td>\n",
       "      <td>Iris-virginica</td>\n",
       "      <td>1.3</td>\n",
       "    </tr>\n",
       "    <tr>\n",
       "      <td>147</td>\n",
       "      <td>6.5</td>\n",
       "      <td>3.0</td>\n",
       "      <td>5.2</td>\n",
       "      <td>2.0</td>\n",
       "      <td>Iris-virginica</td>\n",
       "      <td>1.3</td>\n",
       "    </tr>\n",
       "    <tr>\n",
       "      <td>148</td>\n",
       "      <td>6.2</td>\n",
       "      <td>3.4</td>\n",
       "      <td>5.4</td>\n",
       "      <td>2.3</td>\n",
       "      <td>Iris-virginica</td>\n",
       "      <td>0.8</td>\n",
       "    </tr>\n",
       "    <tr>\n",
       "      <td>149</td>\n",
       "      <td>5.9</td>\n",
       "      <td>3.0</td>\n",
       "      <td>5.1</td>\n",
       "      <td>1.8</td>\n",
       "      <td>Iris-virginica</td>\n",
       "      <td>0.8</td>\n",
       "    </tr>\n",
       "  </tbody>\n",
       "</table>\n",
       "<p>150 rows × 6 columns</p>\n",
       "</div>"
      ],
      "text/plain": [
       "     sepal_length  sepal_width  petal_length  petal_width           class  \\\n",
       "0             5.1          3.5           1.4          0.2     Iris-setosa   \n",
       "1             4.9          3.0           1.4          0.2     Iris-setosa   \n",
       "2             4.7          3.2           1.3          0.2     Iris-setosa   \n",
       "3             4.6          3.1           1.5          0.2     Iris-setosa   \n",
       "4             5.0          3.6           1.4          0.2     Iris-setosa   \n",
       "..            ...          ...           ...          ...             ...   \n",
       "145           6.7          3.0           5.2          2.3  Iris-virginica   \n",
       "146           6.3          2.5           5.0          1.9  Iris-virginica   \n",
       "147           6.5          3.0           5.2          2.0  Iris-virginica   \n",
       "148           6.2          3.4           5.4          2.3  Iris-virginica   \n",
       "149           5.9          3.0           5.1          1.8  Iris-virginica   \n",
       "\n",
       "     added  \n",
       "0      3.7  \n",
       "1      3.5  \n",
       "2      3.4  \n",
       "3      3.1  \n",
       "4      3.6  \n",
       "..     ...  \n",
       "145    1.5  \n",
       "146    1.3  \n",
       "147    1.3  \n",
       "148    0.8  \n",
       "149    0.8  \n",
       "\n",
       "[150 rows x 6 columns]"
      ]
     },
     "execution_count": 148,
     "metadata": {},
     "output_type": "execute_result"
    }
   ],
   "source": [
    "#add new column to the end\n",
    "df['added'] = df['sepal_length'] - df['petal_length']\n",
    "df"
   ]
  },
  {
   "cell_type": "code",
   "execution_count": 142,
   "metadata": {
    "scrolled": true
   },
   "outputs": [
    {
     "data": {
      "text/html": [
       "<div>\n",
       "<style scoped>\n",
       "    .dataframe tbody tr th:only-of-type {\n",
       "        vertical-align: middle;\n",
       "    }\n",
       "\n",
       "    .dataframe tbody tr th {\n",
       "        vertical-align: top;\n",
       "    }\n",
       "\n",
       "    .dataframe thead th {\n",
       "        text-align: right;\n",
       "    }\n",
       "</style>\n",
       "<table border=\"1\" class=\"dataframe\">\n",
       "  <thead>\n",
       "    <tr style=\"text-align: right;\">\n",
       "      <th></th>\n",
       "      <th>sepal_length</th>\n",
       "      <th>sepal_width</th>\n",
       "      <th>petal_length</th>\n",
       "      <th>petal_width</th>\n",
       "      <th>class</th>\n",
       "    </tr>\n",
       "  </thead>\n",
       "  <tbody>\n",
       "    <tr>\n",
       "      <td>0</td>\n",
       "      <td>5.1</td>\n",
       "      <td>3.5</td>\n",
       "      <td>1.4</td>\n",
       "      <td>0.2</td>\n",
       "      <td>Iris-setosa</td>\n",
       "    </tr>\n",
       "    <tr>\n",
       "      <td>1</td>\n",
       "      <td>4.9</td>\n",
       "      <td>3.0</td>\n",
       "      <td>1.4</td>\n",
       "      <td>0.2</td>\n",
       "      <td>Iris-setosa</td>\n",
       "    </tr>\n",
       "    <tr>\n",
       "      <td>2</td>\n",
       "      <td>4.7</td>\n",
       "      <td>3.2</td>\n",
       "      <td>1.3</td>\n",
       "      <td>0.2</td>\n",
       "      <td>Iris-setosa</td>\n",
       "    </tr>\n",
       "    <tr>\n",
       "      <td>3</td>\n",
       "      <td>4.6</td>\n",
       "      <td>3.1</td>\n",
       "      <td>1.5</td>\n",
       "      <td>0.2</td>\n",
       "      <td>Iris-setosa</td>\n",
       "    </tr>\n",
       "    <tr>\n",
       "      <td>4</td>\n",
       "      <td>5.0</td>\n",
       "      <td>3.6</td>\n",
       "      <td>1.4</td>\n",
       "      <td>0.2</td>\n",
       "      <td>Iris-setosa</td>\n",
       "    </tr>\n",
       "  </tbody>\n",
       "</table>\n",
       "</div>"
      ],
      "text/plain": [
       "   sepal_length   sepal_width   petal_length   petal_width        class\n",
       "0           5.1           3.5            1.4           0.2  Iris-setosa\n",
       "1           4.9           3.0            1.4           0.2  Iris-setosa\n",
       "2           4.7           3.2            1.3           0.2  Iris-setosa\n",
       "3           4.6           3.1            1.5           0.2  Iris-setosa\n",
       "4           5.0           3.6            1.4           0.2  Iris-setosa"
      ]
     },
     "execution_count": 142,
     "metadata": {},
     "output_type": "execute_result"
    }
   ],
   "source": [
    "df.head() # đọc 5 dòng đầu"
   ]
  },
  {
   "cell_type": "markdown",
   "metadata": {},
   "source": [
    "# sqlite3"
   ]
  },
  {
   "cell_type": "code",
   "execution_count": 127,
   "metadata": {
    "scrolled": true
   },
   "outputs": [
    {
     "data": {
      "text/html": [
       "<div>\n",
       "<style scoped>\n",
       "    .dataframe tbody tr th:only-of-type {\n",
       "        vertical-align: middle;\n",
       "    }\n",
       "\n",
       "    .dataframe tbody tr th {\n",
       "        vertical-align: top;\n",
       "    }\n",
       "\n",
       "    .dataframe thead th {\n",
       "        text-align: right;\n",
       "    }\n",
       "</style>\n",
       "<table border=\"1\" class=\"dataframe\">\n",
       "  <thead>\n",
       "    <tr style=\"text-align: right;\">\n",
       "      <th></th>\n",
       "      <th>id</th>\n",
       "      <th>LineId</th>\n",
       "      <th>DateTime</th>\n",
       "      <th>Shift</th>\n",
       "      <th>FGs</th>\n",
       "      <th>SKU</th>\n",
       "      <th>Target_speed</th>\n",
       "      <th>Actual_speed</th>\n",
       "      <th>Target_counter</th>\n",
       "      <th>Actual_counter</th>\n",
       "      <th>...</th>\n",
       "      <th>Actual_counterIN</th>\n",
       "      <th>Spare01</th>\n",
       "      <th>Spare02</th>\n",
       "      <th>Spare03</th>\n",
       "      <th>Spare04</th>\n",
       "      <th>Spare05</th>\n",
       "      <th>createId</th>\n",
       "      <th>updateId</th>\n",
       "      <th>created</th>\n",
       "      <th>updated</th>\n",
       "    </tr>\n",
       "  </thead>\n",
       "  <tbody>\n",
       "    <tr>\n",
       "      <td>0</td>\n",
       "      <td>1</td>\n",
       "      <td>1</td>\n",
       "      <td>2020/03/31 06:00:30</td>\n",
       "      <td>1</td>\n",
       "      <td>67717651</td>\n",
       "      <td>1</td>\n",
       "      <td>360@360@6@1@</td>\n",
       "      <td>0@0@0@0@</td>\n",
       "      <td>146880@146880@979@979@</td>\n",
       "      <td>13344@14928@352@0@</td>\n",
       "      <td>...</td>\n",
       "      <td>10176@15108@352@96@</td>\n",
       "      <td>16@16@16@16@</td>\n",
       "      <td>None</td>\n",
       "      <td>None</td>\n",
       "      <td>None</td>\n",
       "      <td>None</td>\n",
       "      <td>None</td>\n",
       "      <td>None</td>\n",
       "      <td>None</td>\n",
       "      <td>None</td>\n",
       "    </tr>\n",
       "    <tr>\n",
       "      <td>1</td>\n",
       "      <td>2</td>\n",
       "      <td>1</td>\n",
       "      <td>2020/03/31 06:01:00</td>\n",
       "      <td>1</td>\n",
       "      <td>67717651</td>\n",
       "      <td>1</td>\n",
       "      <td>360@360@6@1@</td>\n",
       "      <td>0@0@0@0@</td>\n",
       "      <td>146880@146880@979@979@</td>\n",
       "      <td>13344@14928@352@0@</td>\n",
       "      <td>...</td>\n",
       "      <td>10176@15108@352@96@</td>\n",
       "      <td>16@16@16@16@</td>\n",
       "      <td>None</td>\n",
       "      <td>None</td>\n",
       "      <td>None</td>\n",
       "      <td>None</td>\n",
       "      <td>None</td>\n",
       "      <td>None</td>\n",
       "      <td>None</td>\n",
       "      <td>None</td>\n",
       "    </tr>\n",
       "    <tr>\n",
       "      <td>2</td>\n",
       "      <td>3</td>\n",
       "      <td>1</td>\n",
       "      <td>2020/03/31 06:01:30</td>\n",
       "      <td>1</td>\n",
       "      <td>67717651</td>\n",
       "      <td>1</td>\n",
       "      <td>360@360@6@1@</td>\n",
       "      <td>0@0@0@0@</td>\n",
       "      <td>146880@146880@979@979@</td>\n",
       "      <td>13344@14928@352@0@</td>\n",
       "      <td>...</td>\n",
       "      <td>10176@15108@352@96@</td>\n",
       "      <td>16@16@16@16@</td>\n",
       "      <td>None</td>\n",
       "      <td>None</td>\n",
       "      <td>None</td>\n",
       "      <td>None</td>\n",
       "      <td>None</td>\n",
       "      <td>None</td>\n",
       "      <td>None</td>\n",
       "      <td>None</td>\n",
       "    </tr>\n",
       "    <tr>\n",
       "      <td>3</td>\n",
       "      <td>4</td>\n",
       "      <td>1</td>\n",
       "      <td>2020/03/31 06:02:00</td>\n",
       "      <td>1</td>\n",
       "      <td>67717651</td>\n",
       "      <td>1</td>\n",
       "      <td>360@360@6@1@</td>\n",
       "      <td>0@0@0@0@</td>\n",
       "      <td>146880@146880@979@979@</td>\n",
       "      <td>13344@14928@352@0@</td>\n",
       "      <td>...</td>\n",
       "      <td>10176@15108@352@96@</td>\n",
       "      <td>16@16@16@16@</td>\n",
       "      <td>None</td>\n",
       "      <td>None</td>\n",
       "      <td>None</td>\n",
       "      <td>None</td>\n",
       "      <td>None</td>\n",
       "      <td>None</td>\n",
       "      <td>None</td>\n",
       "      <td>None</td>\n",
       "    </tr>\n",
       "    <tr>\n",
       "      <td>4</td>\n",
       "      <td>5</td>\n",
       "      <td>1</td>\n",
       "      <td>2020/03/31 06:02:30</td>\n",
       "      <td>1</td>\n",
       "      <td>67717651</td>\n",
       "      <td>1</td>\n",
       "      <td>360@360@6@1@</td>\n",
       "      <td>0@0@0@0@</td>\n",
       "      <td>146880@146880@979@979@</td>\n",
       "      <td>13344@14928@352@0@</td>\n",
       "      <td>...</td>\n",
       "      <td>10176@15108@352@96@</td>\n",
       "      <td>16@16@16@16@</td>\n",
       "      <td>None</td>\n",
       "      <td>None</td>\n",
       "      <td>None</td>\n",
       "      <td>None</td>\n",
       "      <td>None</td>\n",
       "      <td>None</td>\n",
       "      <td>None</td>\n",
       "      <td>None</td>\n",
       "    </tr>\n",
       "    <tr>\n",
       "      <td>...</td>\n",
       "      <td>...</td>\n",
       "      <td>...</td>\n",
       "      <td>...</td>\n",
       "      <td>...</td>\n",
       "      <td>...</td>\n",
       "      <td>...</td>\n",
       "      <td>...</td>\n",
       "      <td>...</td>\n",
       "      <td>...</td>\n",
       "      <td>...</td>\n",
       "      <td>...</td>\n",
       "      <td>...</td>\n",
       "      <td>...</td>\n",
       "      <td>...</td>\n",
       "      <td>...</td>\n",
       "      <td>...</td>\n",
       "      <td>...</td>\n",
       "      <td>...</td>\n",
       "      <td>...</td>\n",
       "      <td>...</td>\n",
       "      <td>...</td>\n",
       "    </tr>\n",
       "    <tr>\n",
       "      <td>2872</td>\n",
       "      <td>2873</td>\n",
       "      <td>1</td>\n",
       "      <td>2020/03/31 05:57:30</td>\n",
       "      <td>3</td>\n",
       "      <td>67717651</td>\n",
       "      <td>1</td>\n",
       "      <td>360@360@6@1@</td>\n",
       "      <td>0@0@1@0@</td>\n",
       "      <td>152129@152129@1014@1014@</td>\n",
       "      <td>117426@127338@1873@252@</td>\n",
       "      <td>...</td>\n",
       "      <td>46212@127812@1875@813@</td>\n",
       "      <td>48@48@202@0@</td>\n",
       "      <td>None</td>\n",
       "      <td>None</td>\n",
       "      <td>None</td>\n",
       "      <td>None</td>\n",
       "      <td>None</td>\n",
       "      <td>None</td>\n",
       "      <td>None</td>\n",
       "      <td>None</td>\n",
       "    </tr>\n",
       "    <tr>\n",
       "      <td>2873</td>\n",
       "      <td>2874</td>\n",
       "      <td>1</td>\n",
       "      <td>2020/03/31 05:58:00</td>\n",
       "      <td>3</td>\n",
       "      <td>67717651</td>\n",
       "      <td>1</td>\n",
       "      <td>360@360@6@1@</td>\n",
       "      <td>0@0@0@0@</td>\n",
       "      <td>152129@152129@1014@1014@</td>\n",
       "      <td>117426@127338@1873@252@</td>\n",
       "      <td>...</td>\n",
       "      <td>46212@127812@1875@815@</td>\n",
       "      <td>48@48@202@0@</td>\n",
       "      <td>None</td>\n",
       "      <td>None</td>\n",
       "      <td>None</td>\n",
       "      <td>None</td>\n",
       "      <td>None</td>\n",
       "      <td>None</td>\n",
       "      <td>None</td>\n",
       "      <td>None</td>\n",
       "    </tr>\n",
       "    <tr>\n",
       "      <td>2874</td>\n",
       "      <td>2875</td>\n",
       "      <td>1</td>\n",
       "      <td>2020/03/31 05:58:30</td>\n",
       "      <td>3</td>\n",
       "      <td>67717651</td>\n",
       "      <td>1</td>\n",
       "      <td>360@360@6@1@</td>\n",
       "      <td>0@0@0@0@</td>\n",
       "      <td>152129@152129@1014@1014@</td>\n",
       "      <td>117426@127338@1873@252@</td>\n",
       "      <td>...</td>\n",
       "      <td>46212@127812@1875@815@</td>\n",
       "      <td>48@48@202@0@</td>\n",
       "      <td>None</td>\n",
       "      <td>None</td>\n",
       "      <td>None</td>\n",
       "      <td>None</td>\n",
       "      <td>None</td>\n",
       "      <td>None</td>\n",
       "      <td>None</td>\n",
       "      <td>None</td>\n",
       "    </tr>\n",
       "    <tr>\n",
       "      <td>2875</td>\n",
       "      <td>2876</td>\n",
       "      <td>1</td>\n",
       "      <td>2020/03/31 05:59:00</td>\n",
       "      <td>3</td>\n",
       "      <td>67717651</td>\n",
       "      <td>1</td>\n",
       "      <td>360@360@6@1@</td>\n",
       "      <td>0@0@0@0@</td>\n",
       "      <td>152129@152129@1014@1014@</td>\n",
       "      <td>117426@127338@1873@252@</td>\n",
       "      <td>...</td>\n",
       "      <td>46212@127812@1875@815@</td>\n",
       "      <td>48@48@202@0@</td>\n",
       "      <td>None</td>\n",
       "      <td>None</td>\n",
       "      <td>None</td>\n",
       "      <td>None</td>\n",
       "      <td>None</td>\n",
       "      <td>None</td>\n",
       "      <td>None</td>\n",
       "      <td>None</td>\n",
       "    </tr>\n",
       "    <tr>\n",
       "      <td>2876</td>\n",
       "      <td>2877</td>\n",
       "      <td>1</td>\n",
       "      <td>2020/03/31 05:59:30</td>\n",
       "      <td>3</td>\n",
       "      <td>67717651</td>\n",
       "      <td>1</td>\n",
       "      <td>360@360@6@1@</td>\n",
       "      <td>0@0@0@0@</td>\n",
       "      <td>152129@152129@1014@1014@</td>\n",
       "      <td>117426@127338@1873@252@</td>\n",
       "      <td>...</td>\n",
       "      <td>46212@127812@1875@815@</td>\n",
       "      <td>48@48@202@202@</td>\n",
       "      <td>None</td>\n",
       "      <td>None</td>\n",
       "      <td>None</td>\n",
       "      <td>None</td>\n",
       "      <td>None</td>\n",
       "      <td>None</td>\n",
       "      <td>None</td>\n",
       "      <td>None</td>\n",
       "    </tr>\n",
       "  </tbody>\n",
       "</table>\n",
       "<p>2877 rows × 24 columns</p>\n",
       "</div>"
      ],
      "text/plain": [
       "        id  LineId             DateTime  Shift       FGs  SKU  Target_speed  \\\n",
       "0        1       1  2020/03/31 06:00:30      1  67717651    1  360@360@6@1@   \n",
       "1        2       1  2020/03/31 06:01:00      1  67717651    1  360@360@6@1@   \n",
       "2        3       1  2020/03/31 06:01:30      1  67717651    1  360@360@6@1@   \n",
       "3        4       1  2020/03/31 06:02:00      1  67717651    1  360@360@6@1@   \n",
       "4        5       1  2020/03/31 06:02:30      1  67717651    1  360@360@6@1@   \n",
       "...    ...     ...                  ...    ...       ...  ...           ...   \n",
       "2872  2873       1  2020/03/31 05:57:30      3  67717651    1  360@360@6@1@   \n",
       "2873  2874       1  2020/03/31 05:58:00      3  67717651    1  360@360@6@1@   \n",
       "2874  2875       1  2020/03/31 05:58:30      3  67717651    1  360@360@6@1@   \n",
       "2875  2876       1  2020/03/31 05:59:00      3  67717651    1  360@360@6@1@   \n",
       "2876  2877       1  2020/03/31 05:59:30      3  67717651    1  360@360@6@1@   \n",
       "\n",
       "     Actual_speed            Target_counter           Actual_counter  ...  \\\n",
       "0        0@0@0@0@    146880@146880@979@979@       13344@14928@352@0@  ...   \n",
       "1        0@0@0@0@    146880@146880@979@979@       13344@14928@352@0@  ...   \n",
       "2        0@0@0@0@    146880@146880@979@979@       13344@14928@352@0@  ...   \n",
       "3        0@0@0@0@    146880@146880@979@979@       13344@14928@352@0@  ...   \n",
       "4        0@0@0@0@    146880@146880@979@979@       13344@14928@352@0@  ...   \n",
       "...           ...                       ...                      ...  ...   \n",
       "2872     0@0@1@0@  152129@152129@1014@1014@  117426@127338@1873@252@  ...   \n",
       "2873     0@0@0@0@  152129@152129@1014@1014@  117426@127338@1873@252@  ...   \n",
       "2874     0@0@0@0@  152129@152129@1014@1014@  117426@127338@1873@252@  ...   \n",
       "2875     0@0@0@0@  152129@152129@1014@1014@  117426@127338@1873@252@  ...   \n",
       "2876     0@0@0@0@  152129@152129@1014@1014@  117426@127338@1873@252@  ...   \n",
       "\n",
       "            Actual_counterIN         Spare01 Spare02  Spare03 Spare04 Spare05  \\\n",
       "0        10176@15108@352@96@    16@16@16@16@    None     None    None    None   \n",
       "1        10176@15108@352@96@    16@16@16@16@    None     None    None    None   \n",
       "2        10176@15108@352@96@    16@16@16@16@    None     None    None    None   \n",
       "3        10176@15108@352@96@    16@16@16@16@    None     None    None    None   \n",
       "4        10176@15108@352@96@    16@16@16@16@    None     None    None    None   \n",
       "...                      ...             ...     ...      ...     ...     ...   \n",
       "2872  46212@127812@1875@813@    48@48@202@0@    None     None    None    None   \n",
       "2873  46212@127812@1875@815@    48@48@202@0@    None     None    None    None   \n",
       "2874  46212@127812@1875@815@    48@48@202@0@    None     None    None    None   \n",
       "2875  46212@127812@1875@815@    48@48@202@0@    None     None    None    None   \n",
       "2876  46212@127812@1875@815@  48@48@202@202@    None     None    None    None   \n",
       "\n",
       "     createId updateId created updated  \n",
       "0        None     None    None    None  \n",
       "1        None     None    None    None  \n",
       "2        None     None    None    None  \n",
       "3        None     None    None    None  \n",
       "4        None     None    None    None  \n",
       "...       ...      ...     ...     ...  \n",
       "2872     None     None    None    None  \n",
       "2873     None     None    None    None  \n",
       "2874     None     None    None    None  \n",
       "2875     None     None    None    None  \n",
       "2876     None     None    None    None  \n",
       "\n",
       "[2877 rows x 24 columns]"
      ]
     },
     "execution_count": 127,
     "metadata": {},
     "output_type": "execute_result"
    }
   ],
   "source": [
    "import sqlite3\n",
    "conn = sqlite3.connect(\"20200331_data_log.s3db\")\n",
    "\n",
    "df = pd.read_sql_query(\"select * from data_log;\", conn)\n",
    "df"
   ]
  },
  {
   "cell_type": "code",
   "execution_count": 128,
   "metadata": {},
   "outputs": [
    {
     "data": {
      "text/plain": [
       "0       2020/03/31 06:00:30\n",
       "1       2020/03/31 06:01:00\n",
       "2       2020/03/31 06:01:30\n",
       "3       2020/03/31 06:02:00\n",
       "4       2020/03/31 06:02:30\n",
       "               ...         \n",
       "2872    2020/03/31 05:57:30\n",
       "2873    2020/03/31 05:58:00\n",
       "2874    2020/03/31 05:58:30\n",
       "2875    2020/03/31 05:59:00\n",
       "2876    2020/03/31 05:59:30\n",
       "Name: DateTime, Length: 2877, dtype: object"
      ]
     },
     "execution_count": 128,
     "metadata": {},
     "output_type": "execute_result"
    }
   ],
   "source": [
    "df['DateTime']"
   ]
  },
  {
   "cell_type": "markdown",
   "metadata": {},
   "source": [
    "# read_excel"
   ]
  },
  {
   "cell_type": "code",
   "execution_count": 122,
   "metadata": {},
   "outputs": [
    {
     "data": {
      "text/html": [
       "<div>\n",
       "<style scoped>\n",
       "    .dataframe tbody tr th:only-of-type {\n",
       "        vertical-align: middle;\n",
       "    }\n",
       "\n",
       "    .dataframe tbody tr th {\n",
       "        vertical-align: top;\n",
       "    }\n",
       "\n",
       "    .dataframe thead th {\n",
       "        text-align: right;\n",
       "    }\n",
       "</style>\n",
       "<table border=\"1\" class=\"dataframe\">\n",
       "  <thead>\n",
       "    <tr style=\"text-align: right;\">\n",
       "      <th></th>\n",
       "      <th>Country</th>\n",
       "      <th>Region</th>\n",
       "      <th>Sales Person</th>\n",
       "      <th>Date of Purchase</th>\n",
       "      <th>Total</th>\n",
       "      <th>Quantity</th>\n",
       "    </tr>\n",
       "  </thead>\n",
       "  <tbody>\n",
       "    <tr>\n",
       "      <td>0</td>\n",
       "      <td>India</td>\n",
       "      <td>North</td>\n",
       "      <td>John</td>\n",
       "      <td>2014-01-23</td>\n",
       "      <td>100000</td>\n",
       "      <td>567</td>\n",
       "    </tr>\n",
       "    <tr>\n",
       "      <td>1</td>\n",
       "      <td>US</td>\n",
       "      <td>North</td>\n",
       "      <td>Bill</td>\n",
       "      <td>2017-10-09</td>\n",
       "      <td>120000</td>\n",
       "      <td>3000</td>\n",
       "    </tr>\n",
       "    <tr>\n",
       "      <td>2</td>\n",
       "      <td>UK</td>\n",
       "      <td>North</td>\n",
       "      <td>Thomas</td>\n",
       "      <td>2010-05-17</td>\n",
       "      <td>140000</td>\n",
       "      <td>345</td>\n",
       "    </tr>\n",
       "    <tr>\n",
       "      <td>3</td>\n",
       "      <td>Australia</td>\n",
       "      <td>East</td>\n",
       "      <td>John</td>\n",
       "      <td>2015-01-11</td>\n",
       "      <td>160000</td>\n",
       "      <td>1000</td>\n",
       "    </tr>\n",
       "    <tr>\n",
       "      <td>4</td>\n",
       "      <td>Africa</td>\n",
       "      <td>East</td>\n",
       "      <td>Bill</td>\n",
       "      <td>2011-07-21</td>\n",
       "      <td>180000</td>\n",
       "      <td>123</td>\n",
       "    </tr>\n",
       "    <tr>\n",
       "      <td>5</td>\n",
       "      <td>Singapore</td>\n",
       "      <td>East</td>\n",
       "      <td>Thomas</td>\n",
       "      <td>2015-06-10</td>\n",
       "      <td>200000</td>\n",
       "      <td>1000</td>\n",
       "    </tr>\n",
       "    <tr>\n",
       "      <td>6</td>\n",
       "      <td>Mylasia</td>\n",
       "      <td>West</td>\n",
       "      <td>John</td>\n",
       "      <td>2012-05-14</td>\n",
       "      <td>1000000</td>\n",
       "      <td>7890</td>\n",
       "    </tr>\n",
       "    <tr>\n",
       "      <td>7</td>\n",
       "      <td>India</td>\n",
       "      <td>West</td>\n",
       "      <td>Bill</td>\n",
       "      <td>2014-06-23</td>\n",
       "      <td>240000</td>\n",
       "      <td>200</td>\n",
       "    </tr>\n",
       "    <tr>\n",
       "      <td>8</td>\n",
       "      <td>US</td>\n",
       "      <td>West</td>\n",
       "      <td>Thomas</td>\n",
       "      <td>2016-02-17</td>\n",
       "      <td>26000000</td>\n",
       "      <td>1000</td>\n",
       "    </tr>\n",
       "    <tr>\n",
       "      <td>9</td>\n",
       "      <td>UK</td>\n",
       "      <td>North</td>\n",
       "      <td>John</td>\n",
       "      <td>2015-11-11</td>\n",
       "      <td>100000</td>\n",
       "      <td>1000</td>\n",
       "    </tr>\n",
       "    <tr>\n",
       "      <td>10</td>\n",
       "      <td>Australia</td>\n",
       "      <td>North</td>\n",
       "      <td>Bill</td>\n",
       "      <td>2015-11-24</td>\n",
       "      <td>120000</td>\n",
       "      <td>567</td>\n",
       "    </tr>\n",
       "    <tr>\n",
       "      <td>11</td>\n",
       "      <td>Africa</td>\n",
       "      <td>North</td>\n",
       "      <td>Thomas</td>\n",
       "      <td>2011-09-02</td>\n",
       "      <td>140000</td>\n",
       "      <td>1000</td>\n",
       "    </tr>\n",
       "    <tr>\n",
       "      <td>12</td>\n",
       "      <td>Singapore</td>\n",
       "      <td>East</td>\n",
       "      <td>John</td>\n",
       "      <td>2016-05-28</td>\n",
       "      <td>160000</td>\n",
       "      <td>892</td>\n",
       "    </tr>\n",
       "    <tr>\n",
       "      <td>13</td>\n",
       "      <td>Mylasia</td>\n",
       "      <td>East</td>\n",
       "      <td>Bill</td>\n",
       "      <td>2012-09-02</td>\n",
       "      <td>180000</td>\n",
       "      <td>444</td>\n",
       "    </tr>\n",
       "    <tr>\n",
       "      <td>14</td>\n",
       "      <td>India</td>\n",
       "      <td>East</td>\n",
       "      <td>Thomas</td>\n",
       "      <td>2013-05-15</td>\n",
       "      <td>200000</td>\n",
       "      <td>90</td>\n",
       "    </tr>\n",
       "    <tr>\n",
       "      <td>15</td>\n",
       "      <td>US</td>\n",
       "      <td>West</td>\n",
       "      <td>John</td>\n",
       "      <td>2014-12-28</td>\n",
       "      <td>220000</td>\n",
       "      <td>90</td>\n",
       "    </tr>\n",
       "    <tr>\n",
       "      <td>16</td>\n",
       "      <td>UK</td>\n",
       "      <td>West</td>\n",
       "      <td>Bill</td>\n",
       "      <td>2018-05-10</td>\n",
       "      <td>240000</td>\n",
       "      <td>90</td>\n",
       "    </tr>\n",
       "    <tr>\n",
       "      <td>17</td>\n",
       "      <td>Australia</td>\n",
       "      <td>West</td>\n",
       "      <td>Thomas</td>\n",
       "      <td>2012-10-21</td>\n",
       "      <td>260000</td>\n",
       "      <td>90</td>\n",
       "    </tr>\n",
       "    <tr>\n",
       "      <td>18</td>\n",
       "      <td>Africa</td>\n",
       "      <td>North</td>\n",
       "      <td>John</td>\n",
       "      <td>2010-07-13</td>\n",
       "      <td>140000</td>\n",
       "      <td>85</td>\n",
       "    </tr>\n",
       "    <tr>\n",
       "      <td>19</td>\n",
       "      <td>Singapore</td>\n",
       "      <td>North</td>\n",
       "      <td>Bill</td>\n",
       "      <td>2012-09-05</td>\n",
       "      <td>150000</td>\n",
       "      <td>85</td>\n",
       "    </tr>\n",
       "  </tbody>\n",
       "</table>\n",
       "</div>"
      ],
      "text/plain": [
       "      Country Region Sales Person Date of Purchase     Total  Quantity\n",
       "0       India  North         John       2014-01-23    100000       567\n",
       "1          US  North         Bill       2017-10-09    120000      3000\n",
       "2          UK  North       Thomas       2010-05-17    140000       345\n",
       "3   Australia   East         John       2015-01-11    160000      1000\n",
       "4      Africa   East         Bill       2011-07-21    180000       123\n",
       "5   Singapore   East       Thomas       2015-06-10    200000      1000\n",
       "6     Mylasia   West         John       2012-05-14   1000000      7890\n",
       "7       India   West         Bill       2014-06-23    240000       200\n",
       "8          US   West       Thomas       2016-02-17  26000000      1000\n",
       "9          UK  North         John       2015-11-11    100000      1000\n",
       "10  Australia  North         Bill       2015-11-24    120000       567\n",
       "11     Africa  North       Thomas       2011-09-02    140000      1000\n",
       "12  Singapore   East         John       2016-05-28    160000       892\n",
       "13    Mylasia   East         Bill       2012-09-02    180000       444\n",
       "14      India   East       Thomas       2013-05-15    200000        90\n",
       "15         US   West         John       2014-12-28    220000        90\n",
       "16         UK   West         Bill       2018-05-10    240000        90\n",
       "17  Australia   West       Thomas       2012-10-21    260000        90\n",
       "18     Africa  North         John       2010-07-13    140000        85\n",
       "19  Singapore  North         Bill       2012-09-05    150000        85"
      ]
     },
     "execution_count": 122,
     "metadata": {},
     "output_type": "execute_result"
    }
   ],
   "source": [
    "df = pandas.read_excel('PandasTest.xlsx')\n",
    "df"
   ]
  },
  {
   "cell_type": "code",
   "execution_count": null,
   "metadata": {},
   "outputs": [],
   "source": []
  }
 ],
 "metadata": {
  "kernelspec": {
   "display_name": "Python 3",
   "language": "python",
   "name": "python3"
  },
  "language_info": {
   "codemirror_mode": {
    "name": "ipython",
    "version": 3
   },
   "file_extension": ".py",
   "mimetype": "text/x-python",
   "name": "python",
   "nbconvert_exporter": "python",
   "pygments_lexer": "ipython3",
   "version": "3.7.4"
  }
 },
 "nbformat": 4,
 "nbformat_minor": 2
}

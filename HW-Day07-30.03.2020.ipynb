{
 "cells": [
  {
   "cell_type": "markdown",
   "metadata": {},
   "source": [
    "https://github.com/rougier/numpy-100/blob/master/100_Numpy_exercises_with_solutions.md"
   ]
  },
  {
   "cell_type": "code",
   "execution_count": 12,
   "metadata": {},
   "outputs": [],
   "source": [
    "import numpy as np"
   ]
  },
  {
   "cell_type": "code",
   "execution_count": 4,
   "metadata": {},
   "outputs": [
    {
     "name": "stdout",
     "output_type": "stream",
     "text": [
      "1.16.5\n",
      "mkl_info:\n",
      "    libraries = ['mkl_rt']\n",
      "    library_dirs = ['C:/Anaconda3\\\\Library\\\\lib']\n",
      "    define_macros = [('SCIPY_MKL_H', None), ('HAVE_CBLAS', None)]\n",
      "    include_dirs = ['C:\\\\Program Files (x86)\\\\IntelSWTools\\\\compilers_and_libraries_2019.0.117\\\\windows\\\\mkl', 'C:\\\\Program Files (x86)\\\\IntelSWTools\\\\compilers_and_libraries_2019.0.117\\\\windows\\\\mkl\\\\include', 'C:\\\\Program Files (x86)\\\\IntelSWTools\\\\compilers_and_libraries_2019.0.117\\\\windows\\\\mkl\\\\lib', 'C:/Anaconda3\\\\Library\\\\include']\n",
      "blas_mkl_info:\n",
      "    libraries = ['mkl_rt']\n",
      "    library_dirs = ['C:/Anaconda3\\\\Library\\\\lib']\n",
      "    define_macros = [('SCIPY_MKL_H', None), ('HAVE_CBLAS', None)]\n",
      "    include_dirs = ['C:\\\\Program Files (x86)\\\\IntelSWTools\\\\compilers_and_libraries_2019.0.117\\\\windows\\\\mkl', 'C:\\\\Program Files (x86)\\\\IntelSWTools\\\\compilers_and_libraries_2019.0.117\\\\windows\\\\mkl\\\\include', 'C:\\\\Program Files (x86)\\\\IntelSWTools\\\\compilers_and_libraries_2019.0.117\\\\windows\\\\mkl\\\\lib', 'C:/Anaconda3\\\\Library\\\\include']\n",
      "blas_opt_info:\n",
      "    libraries = ['mkl_rt']\n",
      "    library_dirs = ['C:/Anaconda3\\\\Library\\\\lib']\n",
      "    define_macros = [('SCIPY_MKL_H', None), ('HAVE_CBLAS', None)]\n",
      "    include_dirs = ['C:\\\\Program Files (x86)\\\\IntelSWTools\\\\compilers_and_libraries_2019.0.117\\\\windows\\\\mkl', 'C:\\\\Program Files (x86)\\\\IntelSWTools\\\\compilers_and_libraries_2019.0.117\\\\windows\\\\mkl\\\\include', 'C:\\\\Program Files (x86)\\\\IntelSWTools\\\\compilers_and_libraries_2019.0.117\\\\windows\\\\mkl\\\\lib', 'C:/Anaconda3\\\\Library\\\\include']\n",
      "lapack_mkl_info:\n",
      "    libraries = ['mkl_rt']\n",
      "    library_dirs = ['C:/Anaconda3\\\\Library\\\\lib']\n",
      "    define_macros = [('SCIPY_MKL_H', None), ('HAVE_CBLAS', None)]\n",
      "    include_dirs = ['C:\\\\Program Files (x86)\\\\IntelSWTools\\\\compilers_and_libraries_2019.0.117\\\\windows\\\\mkl', 'C:\\\\Program Files (x86)\\\\IntelSWTools\\\\compilers_and_libraries_2019.0.117\\\\windows\\\\mkl\\\\include', 'C:\\\\Program Files (x86)\\\\IntelSWTools\\\\compilers_and_libraries_2019.0.117\\\\windows\\\\mkl\\\\lib', 'C:/Anaconda3\\\\Library\\\\include']\n",
      "lapack_opt_info:\n",
      "    libraries = ['mkl_rt']\n",
      "    library_dirs = ['C:/Anaconda3\\\\Library\\\\lib']\n",
      "    define_macros = [('SCIPY_MKL_H', None), ('HAVE_CBLAS', None)]\n",
      "    include_dirs = ['C:\\\\Program Files (x86)\\\\IntelSWTools\\\\compilers_and_libraries_2019.0.117\\\\windows\\\\mkl', 'C:\\\\Program Files (x86)\\\\IntelSWTools\\\\compilers_and_libraries_2019.0.117\\\\windows\\\\mkl\\\\include', 'C:\\\\Program Files (x86)\\\\IntelSWTools\\\\compilers_and_libraries_2019.0.117\\\\windows\\\\mkl\\\\lib', 'C:/Anaconda3\\\\Library\\\\include']\n"
     ]
    }
   ],
   "source": [
    "#2. Print the numpy version and the configuration\n",
    "print(np.__version__)\n",
    "np.show_config()"
   ]
  },
  {
   "cell_type": "code",
   "execution_count": 33,
   "metadata": {},
   "outputs": [
    {
     "name": "stdout",
     "output_type": "stream",
     "text": [
      "[0. 0. 0. 0. 0. 0. 0. 0. 0. 0.]\n"
     ]
    }
   ],
   "source": [
    "#3. Create a null vector of size 10 \n",
    "Z = np.zeros(10)\n",
    "print(Z)"
   ]
  },
  {
   "cell_type": "code",
   "execution_count": 34,
   "metadata": {},
   "outputs": [
    {
     "name": "stdout",
     "output_type": "stream",
     "text": [
      "800 bytes\n"
     ]
    }
   ],
   "source": [
    "#4. How to find the memory size of any array (★☆☆)\n",
    "Z = np.zeros((10,10))\n",
    "print(\"%d bytes\" % (Z.size * Z.itemsize))\n"
   ]
  },
  {
   "cell_type": "code",
   "execution_count": 35,
   "metadata": {},
   "outputs": [
    {
     "name": "stdout",
     "output_type": "stream",
     "text": [
      "[0. 0. 0. 0. 1. 0. 0. 0. 0. 0.]\n"
     ]
    }
   ],
   "source": [
    "#6. Create a null vector of size 10 but the fifth value which is 1 (★☆☆)\n",
    "Z = np.zeros(10)\n",
    "Z[4] = 1\n",
    "print(Z)\n"
   ]
  },
  {
   "cell_type": "code",
   "execution_count": 36,
   "metadata": {},
   "outputs": [
    {
     "name": "stdout",
     "output_type": "stream",
     "text": [
      "[10 11 12 13 14 15 16 17 18 19 20 21 22 23 24 25 26 27 28 29 30 31 32 33\n",
      " 34 35 36 37 38 39 40 41 42 43 44 45 46 47 48 49]\n"
     ]
    }
   ],
   "source": [
    "#7. Create a vector with values ranging from 10 to 49 (★☆☆)\n",
    "Z = np.arange(10,50)\n",
    "print(Z)\n"
   ]
  },
  {
   "cell_type": "code",
   "execution_count": 40,
   "metadata": {},
   "outputs": [
    {
     "name": "stdout",
     "output_type": "stream",
     "text": [
      "[49 48 47 46 45 44 43 42 41 40 39 38 37 36 35 34 33 32 31 30 29 28 27 26\n",
      " 25 24 23 22 21 20 19 18 17 16 15 14 13 12 11 10  9  8  7  6  5  4  3  2\n",
      "  1  0]\n"
     ]
    }
   ],
   "source": [
    "#8. Reverse a vector (first element becomes last) (★☆☆)\n",
    "Z = np.arange(50)\n",
    "Z = Z[::-1]\n",
    "print(Z)\n"
   ]
  },
  {
   "cell_type": "code",
   "execution_count": 41,
   "metadata": {},
   "outputs": [
    {
     "name": "stdout",
     "output_type": "stream",
     "text": [
      "(array([0, 1, 4], dtype=int64),)\n"
     ]
    }
   ],
   "source": [
    "#9. Create a 3x3 matrix with values ranging from 0 to 8 (★☆☆)\n",
    "nz = np.nonzero([1,2,0,0,4,0])\n",
    "print(nz)"
   ]
  },
  {
   "cell_type": "code",
   "execution_count": 42,
   "metadata": {},
   "outputs": [
    {
     "name": "stdout",
     "output_type": "stream",
     "text": [
      "[[1. 0. 0.]\n",
      " [0. 1. 0.]\n",
      " [0. 0. 1.]]\n"
     ]
    }
   ],
   "source": [
    "#11. Create a 3x3 identity matrix -- Ma trận đơn vị (★☆☆)\n",
    "Z = np.eye(3)\n",
    "print(Z)\n"
   ]
  },
  {
   "cell_type": "code",
   "execution_count": 43,
   "metadata": {},
   "outputs": [
    {
     "name": "stdout",
     "output_type": "stream",
     "text": [
      "[[[0.18998255 0.91239242 0.16225535]\n",
      "  [0.7901998  0.74892528 0.26714534]\n",
      "  [0.1148022  0.57690369 0.17112274]]\n",
      "\n",
      " [[0.80202784 0.44333663 0.99035708]\n",
      "  [0.0584617  0.53696229 0.57284671]\n",
      "  [0.60650775 0.11594481 0.85016466]]\n",
      "\n",
      " [[0.10827917 0.81785485 0.33313411]\n",
      "  [0.11835878 0.53699127 0.13661416]\n",
      "  [0.03061074 0.96980766 0.60424896]]]\n"
     ]
    }
   ],
   "source": [
    "#12. Create a 3x3x3 array with random values (★☆☆)\n",
    "Z = np.random.random((3,3,3))\n",
    "print(Z)\n"
   ]
  },
  {
   "cell_type": "code",
   "execution_count": 47,
   "metadata": {},
   "outputs": [
    {
     "name": "stdout",
     "output_type": "stream",
     "text": [
      "0.0028357028299937914 0.998876884563227\n"
     ]
    }
   ],
   "source": [
    "#13. Create a 10x10 array with random values and find the minimum and maximum values (★☆☆)\n",
    "Z = np.random.random((10,10))\n",
    "Zmin, Zmax = Z.min(), Z.max()\n",
    "print(Zmin, Zmax)\n"
   ]
  },
  {
   "cell_type": "code",
   "execution_count": 55,
   "metadata": {},
   "outputs": [
    {
     "name": "stdout",
     "output_type": "stream",
     "text": [
      "0.4490586769758024\n",
      "[[0 1]\n",
      " [2 3]\n",
      " [4 5]]\n",
      "[2. 3.]\n",
      "[2. 3.]\n"
     ]
    }
   ],
   "source": [
    "#http://lagrange.univ-lyon1.fr/docs/numpy/1.11.0/reference/generated/numpy.average.html\n",
    "#14. Create a random vector of size 30 and find the mean value (★☆☆) -- Tính trung bình\n",
    "Z = np.random.random(30)\n",
    "m = Z.mean()\n",
    "print(m)\n",
    "\n",
    "#----------------------------------------\n",
    "data = np.arange(6).reshape((3,2))\n",
    "print(data)\n",
    "m = data.mean()\n",
    "m = data.mean(axis = 0)\n",
    "print(m)\n",
    "#----------------------------------------\n",
    "m = np.average(data)\n",
    "m = np.average(data, axis = 0)\n",
    "print(m)"
   ]
  },
  {
   "cell_type": "code",
   "execution_count": 59,
   "metadata": {},
   "outputs": [
    {
     "name": "stdout",
     "output_type": "stream",
     "text": [
      "[[1. 1. 1. 1. 1. 1. 1. 1. 1. 1.]\n",
      " [1. 1. 1. 1. 1. 1. 1. 1. 1. 1.]\n",
      " [1. 1. 1. 1. 1. 1. 1. 1. 1. 1.]\n",
      " [1. 1. 1. 1. 1. 1. 1. 1. 1. 1.]\n",
      " [1. 1. 1. 1. 1. 1. 1. 1. 1. 1.]\n",
      " [1. 1. 1. 1. 1. 1. 1. 1. 1. 1.]\n",
      " [1. 1. 1. 1. 1. 1. 1. 1. 1. 1.]\n",
      " [1. 1. 1. 1. 1. 1. 1. 1. 1. 1.]\n",
      " [1. 1. 1. 1. 1. 1. 1. 1. 1. 1.]\n",
      " [1. 1. 1. 1. 1. 1. 1. 1. 1. 1.]]\n",
      "---------------------------------------------\n",
      "[[1. 1. 1. 1. 1. 1. 1. 1. 1. 1.]\n",
      " [1. 0. 0. 0. 0. 0. 0. 0. 0. 1.]\n",
      " [1. 0. 0. 0. 0. 0. 0. 0. 0. 1.]\n",
      " [1. 0. 0. 0. 0. 0. 0. 0. 0. 1.]\n",
      " [1. 0. 0. 0. 0. 0. 0. 0. 0. 1.]\n",
      " [1. 0. 0. 0. 0. 0. 0. 0. 0. 1.]\n",
      " [1. 0. 0. 0. 0. 0. 0. 0. 0. 1.]\n",
      " [1. 0. 0. 0. 0. 0. 0. 0. 0. 1.]\n",
      " [1. 0. 0. 0. 0. 0. 0. 0. 0. 1.]\n",
      " [1. 1. 1. 1. 1. 1. 1. 1. 1. 1.]]\n"
     ]
    }
   ],
   "source": [
    "#15. Create a 2d array with 1 on the border and 0 inside (★☆☆)\n",
    "Z = np.ones((10,10))\n",
    "print(Z)\n",
    "Z[1:-1,1:-1] = 0\n",
    "print('---------------------------------------------')\n",
    "print(Z)"
   ]
  },
  {
   "cell_type": "code",
   "execution_count": 61,
   "metadata": {},
   "outputs": [
    {
     "name": "stdout",
     "output_type": "stream",
     "text": [
      "[[1. 1. 1. 1. 1.]\n",
      " [1. 1. 1. 1. 1.]\n",
      " [1. 1. 1. 1. 1.]\n",
      " [1. 1. 1. 1. 1.]\n",
      " [1. 1. 1. 1. 1.]]\n",
      "---------------------------------------------\n",
      "[[0. 0. 0. 0. 0. 0. 0.]\n",
      " [0. 1. 1. 1. 1. 1. 0.]\n",
      " [0. 1. 1. 1. 1. 1. 0.]\n",
      " [0. 1. 1. 1. 1. 1. 0.]\n",
      " [0. 1. 1. 1. 1. 1. 0.]\n",
      " [0. 1. 1. 1. 1. 1. 0.]\n",
      " [0. 0. 0. 0. 0. 0. 0.]]\n"
     ]
    }
   ],
   "source": [
    "#http://lagrange.univ-lyon1.fr/docs/numpy/1.11.0/reference/generated/numpy.pad.html\n",
    "#16. How to add a border (filled with 0's) around an existing array? (★☆☆)\n",
    "Z = np.ones((5,5))\n",
    "print(Z)\n",
    "print('---------------------------------------------')\n",
    "Z = np.pad(Z, pad_width=1, mode='constant', constant_values=0)\n",
    "print(Z)\n"
   ]
  },
  {
   "cell_type": "markdown",
   "metadata": {},
   "source": [
    "2.\tWrite a python script to get a number N from user then create 3D array N x N x N with random (float) values on interval [0,10].\n",
    "○\t Find min, max and sum of array by 3 axis (i.e., deep, height and width).\n"
   ]
  },
  {
   "cell_type": "code",
   "execution_count": 50,
   "metadata": {},
   "outputs": [
    {
     "name": "stdout",
     "output_type": "stream",
     "text": [
      "Please enter a N:\n",
      "3\n",
      "create matrix (3,3,3) random (0,10.0):\n"
     ]
    },
    {
     "data": {
      "text/plain": [
       "array([[[2.94957178, 2.17407561, 7.9049494 ],\n",
       "        [5.41630691, 4.18799792, 4.7649907 ],\n",
       "        [5.65772972, 8.49398264, 6.60126818]],\n",
       "\n",
       "       [[4.65263923, 2.64455758, 4.33369684],\n",
       "        [8.15682191, 8.48616467, 1.18501331],\n",
       "        [4.58813767, 4.04966091, 8.00912318]],\n",
       "\n",
       "       [[9.94349388, 4.06050489, 0.26490136],\n",
       "        [4.13600075, 9.74688443, 7.83124496],\n",
       "        [2.5987969 , 4.63401319, 7.58259276]]])"
      ]
     },
     "execution_count": 50,
     "metadata": {},
     "output_type": "execute_result"
    }
   ],
   "source": [
    "N = int(input(\"Please enter a N:\\n\"))\n",
    "if (isinstance(N, int)):\n",
    "    print('create matrix ({},{},{}) random (0,10.0):'.format(N, N, N))\n",
    "else:\n",
    "    N = 1\n",
    "#-------------------------------------------------    \n",
    "a = np.random.random_sample((N, N, N))* 10.0\n",
    "a"
   ]
  },
  {
   "cell_type": "code",
   "execution_count": 58,
   "metadata": {},
   "outputs": [
    {
     "name": "stdout",
     "output_type": "stream",
     "text": [
      "Min is:0.2649013583902782 , Max is 9.943493882636771, Sum is 145.0551213056908\n"
     ]
    }
   ],
   "source": [
    "print('Min is:{} , Max is {}, Sum is {}'.format(a.min(), a.max(), a.sum()))"
   ]
  },
  {
   "cell_type": "code",
   "execution_count": 64,
   "metadata": {},
   "outputs": [
    {
     "name": "stdout",
     "output_type": "stream",
     "text": [
      "Please enter a Axis from 0, 1, 2:\n",
      "1\n",
      "Min Aixs[1] is [[2.94957178 2.17407561 4.7649907 ]\n",
      " [4.58813767 2.64455758 1.18501331]\n",
      " [2.5987969  4.06050489 0.26490136]] \n",
      "--------------------------------\n",
      "Max Aixs[1] is [[5.65772972 8.49398264 7.9049494 ]\n",
      " [8.15682191 8.48616467 8.00912318]\n",
      " [9.94349388 9.74688443 7.83124496]] \n",
      "--------------------------------\n",
      "Sum Aixs[1] is [[14.02360841 14.85605616 19.27120829]\n",
      " [17.39759882 15.18038316 13.52783334]\n",
      " [16.67829153 18.44140251 15.67873908]] \n"
     ]
    }
   ],
   "source": [
    "axis = int(input(\"Please enter a Axis from 0, 1, 2:\\n\"))\n",
    "if (isinstance(N, int) and axis <= 2):\n",
    "    print('Min Aixs[{}] is {} '.format(axis, a.min(axis)))\n",
    "    print('--------------------------------')\n",
    "    print('Max Aixs[{}] is {} '.format(axis, a.max(axis)))\n",
    "    print('--------------------------------')\n",
    "    print('Sum Aixs[{}] is {} '.format(axis, a.sum(axis)))"
   ]
  },
  {
   "cell_type": "markdown",
   "metadata": {},
   "source": [
    "3.\tWrite a python script to get three number M, N and K from user then create 3D array M x N x K with random integer numbers on interval [-100,100].\n",
    "○\t Find min, max and sum of array by 3 axis (i.e., deep, height and width).\n"
   ]
  },
  {
   "cell_type": "code",
   "execution_count": 66,
   "metadata": {},
   "outputs": [
    {
     "name": "stdout",
     "output_type": "stream",
     "text": [
      "Please enter a M:\n",
      "3\n",
      "Please enter a N:\n",
      "4\n",
      "Please enter a K:\n",
      "5\n"
     ]
    }
   ],
   "source": [
    "M = int(input(\"Please enter a M as int :\\n\"))\n",
    "N = int(input(\"Please enter a N as int :\\n\"))\n",
    "K = int(input(\"Please enter a K as int :\\n\"))"
   ]
  },
  {
   "cell_type": "code",
   "execution_count": 67,
   "metadata": {},
   "outputs": [
    {
     "data": {
      "text/plain": [
       "array([[[ -3, -34, 915,  -2, 398],\n",
       "        [252, 903, 273, 965, 799],\n",
       "        [317, 352, 502, 536, 625],\n",
       "        [450, 160, 526, 633, 526]],\n",
       "\n",
       "       [[862, 943, 866,  89, 138],\n",
       "        [942, 833, 427, 358, 873],\n",
       "        [165, -41, 681, 683, 326],\n",
       "        [902, -48, 308, 802, 337]],\n",
       "\n",
       "       [[773,  21,  -6, 629, 404],\n",
       "        [-51, 982, 962, 180, 603],\n",
       "        [613, 443, -75, 475, 687],\n",
       "        [142, 485, 515,  92, 190]]])"
      ]
     },
     "execution_count": 67,
     "metadata": {},
     "output_type": "execute_result"
    }
   ],
   "source": [
    "a = np.random.randint(-100, 1000, size=(M, N, K))\n",
    "a"
   ]
  },
  {
   "cell_type": "code",
   "execution_count": 68,
   "metadata": {},
   "outputs": [
    {
     "name": "stdout",
     "output_type": "stream",
     "text": [
      "Min is:-75 , Max is 982, Sum is 27603\n"
     ]
    }
   ],
   "source": [
    "print('Min is:{} , Max is {}, Sum is {}'.format(a.min(), a.max(), a.sum()))"
   ]
  },
  {
   "cell_type": "code",
   "execution_count": 69,
   "metadata": {},
   "outputs": [
    {
     "name": "stdout",
     "output_type": "stream",
     "text": [
      "Please enter a Axis from 0, 1, 2:\n",
      "0\n",
      "Min Aixs[0] is [[ -3 -34  -6  -2 138]\n",
      " [-51 833 273 180 603]\n",
      " [165 -41 -75 475 326]\n",
      " [142 -48 308  92 190]] \n",
      "--------------------------------\n",
      "Max Aixs[0] is [[862 943 915 629 404]\n",
      " [942 982 962 965 873]\n",
      " [613 443 681 683 687]\n",
      " [902 485 526 802 526]] \n",
      "--------------------------------\n",
      "Sum Aixs[0] is [[1632  930 1775  716  940]\n",
      " [1143 2718 1662 1503 2275]\n",
      " [1095  754 1108 1694 1638]\n",
      " [1494  597 1349 1527 1053]] \n"
     ]
    }
   ],
   "source": [
    "axis = int(input(\"Please enter a Axis from 0, 1, 2:\\n\"))\n",
    "if (isinstance(N, int) and axis <= 2):\n",
    "    print('Min Aixs[{}] is {} '.format(axis, a.min(axis)))\n",
    "    print('--------------------------------')\n",
    "    print('Max Aixs[{}] is {} '.format(axis, a.max(axis)))\n",
    "    print('--------------------------------')\n",
    "    print('Sum Aixs[{}] is {} '.format(axis, a.sum(axis)))"
   ]
  },
  {
   "cell_type": "markdown",
   "metadata": {},
   "source": [
    "4.\tWrite a python script to randomly generate a 2D array 10 x 8 of float values on interval [-10, 10].\n",
    "○\tAnd then, get a float number from user and find its closest values in the array. SOME GUIDES: \n",
    "i.\ti) use argmin() function for your problem: https://docs.scipy.org/doc/numpy/reference/generated/numpy.argmin.html;\n",
    "ii.\tOr reshape to 1D, subtract array to value and sort. \n",
    "○\tOptional: If you passed the above problem, extend it to find 3 closest values in the array.\n"
   ]
  },
  {
   "cell_type": "code",
   "execution_count": 95,
   "metadata": {},
   "outputs": [
    {
     "data": {
      "text/plain": [
       "array([[-5.33725155, -6.62785249, -0.33266491, -6.61672692, -3.13340662,\n",
       "        -8.09346338, -4.55326562,  3.65270283],\n",
       "       [-3.52409018,  0.79669499,  0.22855837,  5.30546243, -2.22484843,\n",
       "        -4.37375008,  3.87399827, -5.6111706 ],\n",
       "       [-0.42925525, -9.30682469, -0.96333035, -2.8187609 , -9.68948886,\n",
       "        -5.91161144,  6.8606505 ,  3.71763517],\n",
       "       [ 8.55495974, -7.09025592,  5.56031633, -2.12875303, -9.03520984,\n",
       "        -8.22215557,  9.65834068, -3.01560622],\n",
       "       [ 0.16327897,  2.73131649,  1.0593631 , -2.23363908,  8.08812432,\n",
       "         4.95471936,  8.81494115,  7.7375727 ],\n",
       "       [-8.17215598,  2.40771667,  3.87124761,  3.66083318,  9.08901878,\n",
       "        -3.85672978, -5.95039134, -7.37426206],\n",
       "       [ 7.22514306,  7.09661832, -9.56141397, -2.95352573,  5.98840674,\n",
       "         0.9444093 , -9.52586164,  1.5238576 ],\n",
       "       [-2.35124561, -0.50172513, -7.02638604, -2.49051104, -5.90895637,\n",
       "         5.53859908,  2.49116536,  2.78696154],\n",
       "       [ 3.37079888,  5.62639522, -8.27355487,  0.98180659, -2.73577552,\n",
       "         9.54813297, -4.23999311,  1.35667369],\n",
       "       [ 8.73774344, -6.09449694,  4.77167179,  4.97746026, -3.39345572,\n",
       "        -6.42627305,  0.27102549, -1.04316053]])"
      ]
     },
     "execution_count": 95,
     "metadata": {},
     "output_type": "execute_result"
    }
   ],
   "source": [
    "a = (-10) + np.random.random_sample((10, 8))* 20.0\n",
    "a"
   ]
  },
  {
   "cell_type": "code",
   "execution_count": 108,
   "metadata": {},
   "outputs": [
    {
     "name": "stdout",
     "output_type": "stream",
     "text": [
      "Please enter a float value:8\n",
      "the close value with 8.0 is at index 2, value is 8.737743444323584\n"
     ]
    }
   ],
   "source": [
    "b = float(input(\"Please enter a float value:\"))\n",
    "#\n",
    "if (isinstance(b, float)):\n",
    "    c = np.argmin(a[a>=b])  # Only the first occurrence is returned.\n",
    "    print('the close value with {} is at index {}, value is {}'.format(b, c, m[c]))"
   ]
  },
  {
   "cell_type": "code",
   "execution_count": 110,
   "metadata": {},
   "outputs": [
    {
     "name": "stdout",
     "output_type": "stream",
     "text": [
      "the 3 closetvalue with 8.0 is [8.08812432 8.55495974 8.73774344]\n"
     ]
    }
   ],
   "source": [
    "if (isinstance(b, float)):\n",
    "    m = np.sort(a[a>=b], axis=None)     # sort the flattened array\n",
    "    c = m[0:3]\n",
    "    print('the 3 closetvalue with {} is {}'.format(b, c, c))  "
   ]
  },
  {
   "cell_type": "markdown",
   "metadata": {},
   "source": [
    "5.\tRead the following financial function to more understand about numpy: https://docs.scipy.org/doc/numpy/reference/routines.financial.html. For each function, give a example and try it."
   ]
  },
  {
   "cell_type": "markdown",
   "metadata": {},
   "source": [
    "B.\tADDITIONAL PART\n",
    "\n",
    "1.\tDownload iris data set from here https://archive.ics.uci.edu/ml/datasets/iris, and save it to a file.\n",
    "a.\tLoad data of the downloaded file into a 2D array of numbers where 3 types of flowers is mapped to vector (1 = Setosa, 2=Versicolour, 3=Virginica). \n",
    "GUIDE: use loadtxt() or genfromtxt() to load file content into a list of tuple, then run for loop to convert list of tuple to 1D array, then reshape it to 2D. While converting, map name of flower to number.   \n",
    "b.\tCalculate 3 covariance matrix of sepal length and sepal width for each type of flower. (see: https://docs.scipy.org/doc/numpy/reference/generated/numpy.cov.html )\n"
   ]
  },
  {
   "cell_type": "code",
   "execution_count": 121,
   "metadata": {},
   "outputs": [],
   "source": [
    "def from_txt_to_iris_class(x):\n",
    "    if x == b'Iris-setosa': \n",
    "        return 1\n",
    "    elif x == b'Iris-versicolor': \n",
    "        return 2\n",
    "    elif x == b'Iris-virginica': \n",
    "        return 3\n",
    "    else:\n",
    "        return np.nam"
   ]
  },
  {
   "cell_type": "code",
   "execution_count": 122,
   "metadata": {},
   "outputs": [
    {
     "data": {
      "text/plain": [
       "array([[5.1, 3.5, 1.4, 0.2, 1. ],\n",
       "       [4.9, 3. , 1.4, 0.2, 1. ],\n",
       "       [4.7, 3.2, 1.3, 0.2, 1. ],\n",
       "       [4.6, 3.1, 1.5, 0.2, 1. ],\n",
       "       [5. , 3.6, 1.4, 0.2, 1. ],\n",
       "       [5.4, 3.9, 1.7, 0.4, 1. ],\n",
       "       [4.6, 3.4, 1.4, 0.3, 1. ],\n",
       "       [5. , 3.4, 1.5, 0.2, 1. ],\n",
       "       [4.4, 2.9, 1.4, 0.2, 1. ],\n",
       "       [4.9, 3.1, 1.5, 0.1, 1. ],\n",
       "       [5.4, 3.7, 1.5, 0.2, 1. ],\n",
       "       [4.8, 3.4, 1.6, 0.2, 1. ],\n",
       "       [4.8, 3. , 1.4, 0.1, 1. ],\n",
       "       [4.3, 3. , 1.1, 0.1, 1. ],\n",
       "       [5.8, 4. , 1.2, 0.2, 1. ],\n",
       "       [5.7, 4.4, 1.5, 0.4, 1. ],\n",
       "       [5.4, 3.9, 1.3, 0.4, 1. ],\n",
       "       [5.1, 3.5, 1.4, 0.3, 1. ],\n",
       "       [5.7, 3.8, 1.7, 0.3, 1. ],\n",
       "       [5.1, 3.8, 1.5, 0.3, 1. ],\n",
       "       [5.4, 3.4, 1.7, 0.2, 1. ],\n",
       "       [5.1, 3.7, 1.5, 0.4, 1. ],\n",
       "       [4.6, 3.6, 1. , 0.2, 1. ],\n",
       "       [5.1, 3.3, 1.7, 0.5, 1. ],\n",
       "       [4.8, 3.4, 1.9, 0.2, 1. ],\n",
       "       [5. , 3. , 1.6, 0.2, 1. ],\n",
       "       [5. , 3.4, 1.6, 0.4, 1. ],\n",
       "       [5.2, 3.5, 1.5, 0.2, 1. ],\n",
       "       [5.2, 3.4, 1.4, 0.2, 1. ],\n",
       "       [4.7, 3.2, 1.6, 0.2, 1. ],\n",
       "       [4.8, 3.1, 1.6, 0.2, 1. ],\n",
       "       [5.4, 3.4, 1.5, 0.4, 1. ],\n",
       "       [5.2, 4.1, 1.5, 0.1, 1. ],\n",
       "       [5.5, 4.2, 1.4, 0.2, 1. ],\n",
       "       [4.9, 3.1, 1.5, 0.1, 1. ],\n",
       "       [5. , 3.2, 1.2, 0.2, 1. ],\n",
       "       [5.5, 3.5, 1.3, 0.2, 1. ],\n",
       "       [4.9, 3.1, 1.5, 0.1, 1. ],\n",
       "       [4.4, 3. , 1.3, 0.2, 1. ],\n",
       "       [5.1, 3.4, 1.5, 0.2, 1. ],\n",
       "       [5. , 3.5, 1.3, 0.3, 1. ],\n",
       "       [4.5, 2.3, 1.3, 0.3, 1. ],\n",
       "       [4.4, 3.2, 1.3, 0.2, 1. ],\n",
       "       [5. , 3.5, 1.6, 0.6, 1. ],\n",
       "       [5.1, 3.8, 1.9, 0.4, 1. ],\n",
       "       [4.8, 3. , 1.4, 0.3, 1. ],\n",
       "       [5.1, 3.8, 1.6, 0.2, 1. ],\n",
       "       [4.6, 3.2, 1.4, 0.2, 1. ],\n",
       "       [5.3, 3.7, 1.5, 0.2, 1. ],\n",
       "       [5. , 3.3, 1.4, 0.2, 1. ],\n",
       "       [7. , 3.2, 4.7, 1.4, 2. ],\n",
       "       [6.4, 3.2, 4.5, 1.5, 2. ],\n",
       "       [6.9, 3.1, 4.9, 1.5, 2. ],\n",
       "       [5.5, 2.3, 4. , 1.3, 2. ],\n",
       "       [6.5, 2.8, 4.6, 1.5, 2. ],\n",
       "       [5.7, 2.8, 4.5, 1.3, 2. ],\n",
       "       [6.3, 3.3, 4.7, 1.6, 2. ],\n",
       "       [4.9, 2.4, 3.3, 1. , 2. ],\n",
       "       [6.6, 2.9, 4.6, 1.3, 2. ],\n",
       "       [5.2, 2.7, 3.9, 1.4, 2. ],\n",
       "       [5. , 2. , 3.5, 1. , 2. ],\n",
       "       [5.9, 3. , 4.2, 1.5, 2. ],\n",
       "       [6. , 2.2, 4. , 1. , 2. ],\n",
       "       [6.1, 2.9, 4.7, 1.4, 2. ],\n",
       "       [5.6, 2.9, 3.6, 1.3, 2. ],\n",
       "       [6.7, 3.1, 4.4, 1.4, 2. ],\n",
       "       [5.6, 3. , 4.5, 1.5, 2. ],\n",
       "       [5.8, 2.7, 4.1, 1. , 2. ],\n",
       "       [6.2, 2.2, 4.5, 1.5, 2. ],\n",
       "       [5.6, 2.5, 3.9, 1.1, 2. ],\n",
       "       [5.9, 3.2, 4.8, 1.8, 2. ],\n",
       "       [6.1, 2.8, 4. , 1.3, 2. ],\n",
       "       [6.3, 2.5, 4.9, 1.5, 2. ],\n",
       "       [6.1, 2.8, 4.7, 1.2, 2. ],\n",
       "       [6.4, 2.9, 4.3, 1.3, 2. ],\n",
       "       [6.6, 3. , 4.4, 1.4, 2. ],\n",
       "       [6.8, 2.8, 4.8, 1.4, 2. ],\n",
       "       [6.7, 3. , 5. , 1.7, 2. ],\n",
       "       [6. , 2.9, 4.5, 1.5, 2. ],\n",
       "       [5.7, 2.6, 3.5, 1. , 2. ],\n",
       "       [5.5, 2.4, 3.8, 1.1, 2. ],\n",
       "       [5.5, 2.4, 3.7, 1. , 2. ],\n",
       "       [5.8, 2.7, 3.9, 1.2, 2. ],\n",
       "       [6. , 2.7, 5.1, 1.6, 2. ],\n",
       "       [5.4, 3. , 4.5, 1.5, 2. ],\n",
       "       [6. , 3.4, 4.5, 1.6, 2. ],\n",
       "       [6.7, 3.1, 4.7, 1.5, 2. ],\n",
       "       [6.3, 2.3, 4.4, 1.3, 2. ],\n",
       "       [5.6, 3. , 4.1, 1.3, 2. ],\n",
       "       [5.5, 2.5, 4. , 1.3, 2. ],\n",
       "       [5.5, 2.6, 4.4, 1.2, 2. ],\n",
       "       [6.1, 3. , 4.6, 1.4, 2. ],\n",
       "       [5.8, 2.6, 4. , 1.2, 2. ],\n",
       "       [5. , 2.3, 3.3, 1. , 2. ],\n",
       "       [5.6, 2.7, 4.2, 1.3, 2. ],\n",
       "       [5.7, 3. , 4.2, 1.2, 2. ],\n",
       "       [5.7, 2.9, 4.2, 1.3, 2. ],\n",
       "       [6.2, 2.9, 4.3, 1.3, 2. ],\n",
       "       [5.1, 2.5, 3. , 1.1, 2. ],\n",
       "       [5.7, 2.8, 4.1, 1.3, 2. ],\n",
       "       [6.3, 3.3, 6. , 2.5, 3. ],\n",
       "       [5.8, 2.7, 5.1, 1.9, 3. ],\n",
       "       [7.1, 3. , 5.9, 2.1, 3. ],\n",
       "       [6.3, 2.9, 5.6, 1.8, 3. ],\n",
       "       [6.5, 3. , 5.8, 2.2, 3. ],\n",
       "       [7.6, 3. , 6.6, 2.1, 3. ],\n",
       "       [4.9, 2.5, 4.5, 1.7, 3. ],\n",
       "       [7.3, 2.9, 6.3, 1.8, 3. ],\n",
       "       [6.7, 2.5, 5.8, 1.8, 3. ],\n",
       "       [7.2, 3.6, 6.1, 2.5, 3. ],\n",
       "       [6.5, 3.2, 5.1, 2. , 3. ],\n",
       "       [6.4, 2.7, 5.3, 1.9, 3. ],\n",
       "       [6.8, 3. , 5.5, 2.1, 3. ],\n",
       "       [5.7, 2.5, 5. , 2. , 3. ],\n",
       "       [5.8, 2.8, 5.1, 2.4, 3. ],\n",
       "       [6.4, 3.2, 5.3, 2.3, 3. ],\n",
       "       [6.5, 3. , 5.5, 1.8, 3. ],\n",
       "       [7.7, 3.8, 6.7, 2.2, 3. ],\n",
       "       [7.7, 2.6, 6.9, 2.3, 3. ],\n",
       "       [6. , 2.2, 5. , 1.5, 3. ],\n",
       "       [6.9, 3.2, 5.7, 2.3, 3. ],\n",
       "       [5.6, 2.8, 4.9, 2. , 3. ],\n",
       "       [7.7, 2.8, 6.7, 2. , 3. ],\n",
       "       [6.3, 2.7, 4.9, 1.8, 3. ],\n",
       "       [6.7, 3.3, 5.7, 2.1, 3. ],\n",
       "       [7.2, 3.2, 6. , 1.8, 3. ],\n",
       "       [6.2, 2.8, 4.8, 1.8, 3. ],\n",
       "       [6.1, 3. , 4.9, 1.8, 3. ],\n",
       "       [6.4, 2.8, 5.6, 2.1, 3. ],\n",
       "       [7.2, 3. , 5.8, 1.6, 3. ],\n",
       "       [7.4, 2.8, 6.1, 1.9, 3. ],\n",
       "       [7.9, 3.8, 6.4, 2. , 3. ],\n",
       "       [6.4, 2.8, 5.6, 2.2, 3. ],\n",
       "       [6.3, 2.8, 5.1, 1.5, 3. ],\n",
       "       [6.1, 2.6, 5.6, 1.4, 3. ],\n",
       "       [7.7, 3. , 6.1, 2.3, 3. ],\n",
       "       [6.3, 3.4, 5.6, 2.4, 3. ],\n",
       "       [6.4, 3.1, 5.5, 1.8, 3. ],\n",
       "       [6. , 3. , 4.8, 1.8, 3. ],\n",
       "       [6.9, 3.1, 5.4, 2.1, 3. ],\n",
       "       [6.7, 3.1, 5.6, 2.4, 3. ],\n",
       "       [6.9, 3.1, 5.1, 2.3, 3. ],\n",
       "       [5.8, 2.7, 5.1, 1.9, 3. ],\n",
       "       [6.8, 3.2, 5.9, 2.3, 3. ],\n",
       "       [6.7, 3.3, 5.7, 2.5, 3. ],\n",
       "       [6.7, 3. , 5.2, 2.3, 3. ],\n",
       "       [6.3, 2.5, 5. , 1.9, 3. ],\n",
       "       [6.5, 3. , 5.2, 2. , 3. ],\n",
       "       [6.2, 3.4, 5.4, 2.3, 3. ],\n",
       "       [5.9, 3. , 5.1, 1.8, 3. ]])"
      ]
     },
     "execution_count": 122,
     "metadata": {},
     "output_type": "execute_result"
    }
   ],
   "source": [
    "a = np.loadtxt('iris.data',delimiter=',', converters ={4: from_txt_to_iris_class}) \n",
    "a"
   ]
  },
  {
   "cell_type": "code",
   "execution_count": 120,
   "metadata": {},
   "outputs": [
    {
     "data": {
      "text/plain": [
       "(150, 5)"
      ]
     },
     "execution_count": 120,
     "metadata": {},
     "output_type": "execute_result"
    }
   ],
   "source": [
    "np.shape(a)"
   ]
  },
  {
   "cell_type": "markdown",
   "metadata": {},
   "source": [
    "b.\tCalculate 3 covariance matrix of sepal length and sepal width for each type of flower. (see: https://docs.scipy.org/doc/numpy/reference/generated/numpy.cov.html )\n",
    ". covariance matrix ==> Ma trận hiệp phương\n",
    "https://minhng.info/toan-hoc/ma-tran-hiep-phuong-sai-covariance-matrix.html"
   ]
  },
  {
   "cell_type": "code",
   "execution_count": 123,
   "metadata": {},
   "outputs": [
    {
     "data": {
      "text/plain": [
       "array([[4.043 , 3.7425, 3.6835, ..., 2.5505, 2.267 , 2.2445],\n",
       "       [3.7425, 3.49  , 3.4125, ..., 2.54  , 2.2425, 2.2325],\n",
       "       [3.6835, 3.4125, 3.357 , ..., 2.3335, 2.069 , 2.054 ],\n",
       "       ...,\n",
       "       [2.5505, 2.54  , 2.3335, ..., 3.418 , 3.0495, 3.0995],\n",
       "       [2.267 , 2.2425, 2.069 , ..., 3.0495, 2.758 , 2.783 ],\n",
       "       [2.2445, 2.2325, 2.054 , ..., 3.0995, 2.783 , 2.843 ]])"
      ]
     },
     "execution_count": 123,
     "metadata": {},
     "output_type": "execute_result"
    }
   ],
   "source": [
    "b = np.cov(a)\n",
    "b"
   ]
  },
  {
   "cell_type": "code",
   "execution_count": 124,
   "metadata": {},
   "outputs": [
    {
     "data": {
      "text/plain": [
       "(150, 150)"
      ]
     },
     "execution_count": 124,
     "metadata": {},
     "output_type": "execute_result"
    }
   ],
   "source": [
    "np.shape(b)"
   ]
  },
  {
   "cell_type": "code",
   "execution_count": null,
   "metadata": {},
   "outputs": [],
   "source": []
  }
 ],
 "metadata": {
  "kernelspec": {
   "display_name": "Python 3",
   "language": "python",
   "name": "python3"
  },
  "language_info": {
   "codemirror_mode": {
    "name": "ipython",
    "version": 3
   },
   "file_extension": ".py",
   "mimetype": "text/x-python",
   "name": "python",
   "nbconvert_exporter": "python",
   "pygments_lexer": "ipython3",
   "version": "3.7.4"
  }
 },
 "nbformat": 4,
 "nbformat_minor": 4
}

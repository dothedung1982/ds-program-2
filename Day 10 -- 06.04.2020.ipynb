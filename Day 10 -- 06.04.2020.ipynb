{
 "cells": [
  {
   "cell_type": "code",
   "execution_count": 35,
   "metadata": {},
   "outputs": [
    {
     "name": "stdout",
     "output_type": "stream",
     "text": [
      "[[28, 34], [64, 79]]\n"
     ]
    }
   ],
   "source": [
    "import timeit\n",
    "#2. Implement a script to multiple 2 matrix (use list as a matrix)\n",
    "A = [[1,2,3], \n",
    "     [4,5,6]] # 2x3 matrix\n",
    "\n",
    "B = [[2,3], \n",
    "     [4,5], \n",
    "     [6,7]] # 3x2 matrix\n",
    "\n",
    "#C = A x B \n",
    "#C = [[ 1 * 2 + 2 * 4 + 3 * 6, 1 * 3 + 2 * 5 + 3 * 7 ], [4 * 2 + 5 * 4 + 6 * 6, 4 * 3 + 5 * 5 + 6 * 7]]\n",
    "C = [[0 for b in B[0]] for a in A]\n",
    "for i in range(len(A)):\n",
    "   for j in range(len(B[0])):\n",
    "       for k in range(len(B)):\n",
    "           C[i][j] += A[i][k] * B[k][j]\n",
    "print(C)\n"
   ]
  },
  {
   "cell_type": "code",
   "execution_count": 36,
   "metadata": {},
   "outputs": [
    {
     "name": "stdout",
     "output_type": "stream",
     "text": [
      "1.9 ms ± 29.3 µs per loop (mean ± std. dev. of 7 runs, 1000 loops each)\n"
     ]
    }
   ],
   "source": [
    "K = np.linspace(0, 100, 100);\n",
    "A = K.reshape(-1, 4)\n",
    "B =  K.reshape(4, -1)\n",
    "\n",
    "\n",
    "def multi_matrix(A, B):\n",
    "    C = [[0 for b in B[0]] for a in A]\n",
    "    for i in range(len(A)):\n",
    "        for j in range(len(B[0])):\n",
    "            for k in range(len(B)):\n",
    "                C[i][j] += A[i][k] * B[k][j]\n",
    "    return C  \n",
    "\n",
    "%timeit multi_matrix(A, B)"
   ]
  },
  {
   "cell_type": "code",
   "execution_count": 28,
   "metadata": {},
   "outputs": [
    {
     "name": "stdout",
     "output_type": "stream",
     "text": [
      "1.19 µs ± 38.5 ns per loop (mean ± std. dev. of 7 runs, 1000000 loops each)\n"
     ]
    }
   ],
   "source": [
    "import numpy as np\n",
    "\n",
    "def multi_matrix_as_np(A, B):\n",
    "    C = A@B\n",
    "    return C  \n",
    "\n",
    "%timeit multi_matrix_as_np(A, B)"
   ]
  },
  {
   "cell_type": "code",
   "execution_count": 34,
   "metadata": {},
   "outputs": [
    {
     "data": {
      "text/plain": [
       "array([[  0.        ,   1.01010101,   2.02020202,   3.03030303,\n",
       "          4.04040404,   5.05050505,   6.06060606,   7.07070707,\n",
       "          8.08080808,   9.09090909,  10.1010101 ,  11.11111111,\n",
       "         12.12121212,  13.13131313,  14.14141414,  15.15151515,\n",
       "         16.16161616,  17.17171717,  18.18181818,  19.19191919,\n",
       "         20.2020202 ,  21.21212121,  22.22222222,  23.23232323,\n",
       "         24.24242424],\n",
       "       [ 25.25252525,  26.26262626,  27.27272727,  28.28282828,\n",
       "         29.29292929,  30.3030303 ,  31.31313131,  32.32323232,\n",
       "         33.33333333,  34.34343434,  35.35353535,  36.36363636,\n",
       "         37.37373737,  38.38383838,  39.39393939,  40.4040404 ,\n",
       "         41.41414141,  42.42424242,  43.43434343,  44.44444444,\n",
       "         45.45454545,  46.46464646,  47.47474747,  48.48484848,\n",
       "         49.49494949],\n",
       "       [ 50.50505051,  51.51515152,  52.52525253,  53.53535354,\n",
       "         54.54545455,  55.55555556,  56.56565657,  57.57575758,\n",
       "         58.58585859,  59.5959596 ,  60.60606061,  61.61616162,\n",
       "         62.62626263,  63.63636364,  64.64646465,  65.65656566,\n",
       "         66.66666667,  67.67676768,  68.68686869,  69.6969697 ,\n",
       "         70.70707071,  71.71717172,  72.72727273,  73.73737374,\n",
       "         74.74747475],\n",
       "       [ 75.75757576,  76.76767677,  77.77777778,  78.78787879,\n",
       "         79.7979798 ,  80.80808081,  81.81818182,  82.82828283,\n",
       "         83.83838384,  84.84848485,  85.85858586,  86.86868687,\n",
       "         87.87878788,  88.88888889,  89.8989899 ,  90.90909091,\n",
       "         91.91919192,  92.92929293,  93.93939394,  94.94949495,\n",
       "         95.95959596,  96.96969697,  97.97979798,  98.98989899,\n",
       "        100.        ]])"
      ]
     },
     "execution_count": 34,
     "metadata": {},
     "output_type": "execute_result"
    }
   ],
   "source": [
    "K = np.linspace(0, 100, 100);\n",
    "K\n",
    "A1 = K.reshape(-1, 4)\n",
    "A1\n",
    "A2 =  K.reshape(4, -1)\n",
    "A2"
   ]
  },
  {
   "cell_type": "code",
   "execution_count": 42,
   "metadata": {},
   "outputs": [
    {
     "data": {
      "image/png": "[encoded data removed]",
      "text/plain": [
       "<Figure size 432x288 with 1 Axes>"
      ]
     },
     "metadata": {
      "needs_background": "light"
     },
     "output_type": "display_data"
    }
   ],
   "source": [
    "#y = 3x2 + 2x + 1\n",
    "import numpy as np\n",
    "import matplotlib.pyplot as plt\n",
    "\n",
    "X = np.linspace(-100, 100, 100);\n",
    "Y = (3* (X**2) + 2*X) + 1\n",
    "\n",
    "# Drawing \n",
    "plt.plot(X, Y) \n",
    "plt.xlabel('X')\n",
    "plt.ylabel('Y')\n",
    "plt.show()"
   ]
  },
  {
   "cell_type": "code",
   "execution_count": 45,
   "metadata": {},
   "outputs": [],
   "source": [
    "def d_f(x):\n",
    "    return (6*x + 2)"
   ]
  },
  {
   "cell_type": "code",
   "execution_count": 46,
   "metadata": {},
   "outputs": [
    {
     "data": {
      "text/plain": [
       "-43.0"
      ]
     },
     "execution_count": 46,
     "metadata": {},
     "output_type": "execute_result"
    }
   ],
   "source": [
    "y1 = d_f(-7.5)\n",
    "y1"
   ]
  },
  {
   "cell_type": "code",
   "execution_count": 47,
   "metadata": {},
   "outputs": [
    {
     "data": {
      "text/plain": [
       "32"
      ]
     },
     "execution_count": 47,
     "metadata": {},
     "output_type": "execute_result"
    }
   ],
   "source": [
    "y2 = d_f(5)\n",
    "y2"
   ]
  },
  {
   "cell_type": "code",
   "execution_count": 50,
   "metadata": {},
   "outputs": [
    {
     "data": {
      "text/plain": [
       "array([-43.,  32.])"
      ]
     },
     "execution_count": 50,
     "metadata": {},
     "output_type": "execute_result"
    }
   ],
   "source": [
    "input = np.array([-7.5, 5])\n",
    "output = np.array([d_f(x) for x in input])\n",
    "output"
   ]
  },
  {
   "cell_type": "markdown",
   "metadata": {},
   "source": [
    "# Tính đạo hàm cách 2"
   ]
  },
  {
   "cell_type": "code",
   "execution_count": 53,
   "metadata": {},
   "outputs": [],
   "source": [
    "def f(x):\n",
    "    return (3*(x**2) + 2*x + 1)\n",
    "\n",
    "def df(x, h):\n",
    "    return ((f(x + h) - f(x)) / h)"
   ]
  },
  {
   "cell_type": "code",
   "execution_count": 57,
   "metadata": {},
   "outputs": [
    {
     "data": {
      "text/plain": [
       "-42.99996999748146"
      ]
     },
     "execution_count": 57,
     "metadata": {},
     "output_type": "execute_result"
    }
   ],
   "source": [
    "#7.5\n",
    "y1 = df(-7.5, 0.00001)\n",
    "y1"
   ]
  },
  {
   "cell_type": "code",
   "execution_count": 58,
   "metadata": {},
   "outputs": [
    {
     "data": {
      "text/plain": [
       "32.00002999790286"
      ]
     },
     "execution_count": 58,
     "metadata": {},
     "output_type": "execute_result"
    }
   ],
   "source": [
    "#5\n",
    "y2 = df(5, 0.00001)\n",
    "y2"
   ]
  },
  {
   "cell_type": "code",
   "execution_count": 60,
   "metadata": {},
   "outputs": [
    {
     "data": {
      "text/plain": [
       "-42.99700000001394"
      ]
     },
     "execution_count": 60,
     "metadata": {},
     "output_type": "execute_result"
    }
   ],
   "source": [
    "df(-7.5, 0.001)"
   ]
  },
  {
   "cell_type": "code",
   "execution_count": 61,
   "metadata": {},
   "outputs": [
    {
     "data": {
      "text/plain": [
       "-42.99969999976838"
      ]
     },
     "execution_count": 61,
     "metadata": {},
     "output_type": "execute_result"
    }
   ],
   "source": [
    "df(-7.5, 0.0001)"
   ]
  },
  {
   "cell_type": "code",
   "execution_count": 62,
   "metadata": {},
   "outputs": [
    {
     "data": {
      "text/plain": [
       "-42.99996999748146"
      ]
     },
     "execution_count": 62,
     "metadata": {},
     "output_type": "execute_result"
    }
   ],
   "source": [
    "df(-7.5, 0.00001)"
   ]
  },
  {
   "cell_type": "code",
   "execution_count": 63,
   "metadata": {},
   "outputs": [
    {
     "data": {
      "text/plain": [
       "-42.999997020842784"
      ]
     },
     "execution_count": 63,
     "metadata": {},
     "output_type": "execute_result"
    }
   ],
   "source": [
    "df(-7.5, 0.000001)"
   ]
  },
  {
   "cell_type": "code",
   "execution_count": 64,
   "metadata": {},
   "outputs": [
    {
     "data": {
      "text/plain": [
       "-43.000000005122274"
      ]
     },
     "execution_count": 64,
     "metadata": {},
     "output_type": "execute_result"
    }
   ],
   "source": [
    "df(-7.5, 0.0000001)"
   ]
  },
  {
   "cell_type": "code",
   "execution_count": 65,
   "metadata": {},
   "outputs": [
    {
     "data": {
      "text/plain": [
       "-43.000000005122274"
      ]
     },
     "execution_count": 65,
     "metadata": {},
     "output_type": "execute_result"
    }
   ],
   "source": [
    "df(-7.5, 0.00000001)"
   ]
  },
  {
   "cell_type": "code",
   "execution_count": 66,
   "metadata": {},
   "outputs": [
    {
     "data": {
      "text/plain": [
       "-42.999971583412844"
      ]
     },
     "execution_count": 66,
     "metadata": {},
     "output_type": "execute_result"
    }
   ],
   "source": [
    "df(-7.5, 0.000000001)"
   ]
  },
  {
   "cell_type": "code",
   "execution_count": 67,
   "metadata": {},
   "outputs": [
    {
     "data": {
      "text/plain": [
       "-43.000056848541135"
      ]
     },
     "execution_count": 67,
     "metadata": {},
     "output_type": "execute_result"
    }
   ],
   "source": [
    "df(-7.5, 0.0000000001)"
   ]
  },
  {
   "cell_type": "code",
   "execution_count": 68,
   "metadata": {},
   "outputs": [
    {
     "data": {
      "text/plain": [
       "-42.99920419725822"
      ]
     },
     "execution_count": 68,
     "metadata": {},
     "output_type": "execute_result"
    }
   ],
   "source": [
    "df(-7.5, 0.00000000001)"
   ]
  },
  {
   "cell_type": "code",
   "execution_count": 69,
   "metadata": {},
   "outputs": [
    {
     "data": {
      "text/plain": [
       "-43.00204636820126"
      ]
     },
     "execution_count": 69,
     "metadata": {},
     "output_type": "execute_result"
    }
   ],
   "source": [
    "df(-7.5, 0.000000000001)"
   ]
  },
  {
   "cell_type": "code",
   "execution_count": 70,
   "metadata": {},
   "outputs": [
    {
     "data": {
      "text/plain": [
       "-43.20099833421409"
      ]
     },
     "execution_count": 70,
     "metadata": {},
     "output_type": "execute_result"
    }
   ],
   "source": [
    "df(-7.5, 0.0000000000001)"
   ]
  },
  {
   "cell_type": "code",
   "execution_count": 71,
   "metadata": {},
   "outputs": [
    {
     "data": {
      "text/plain": [
       "-42.63256414560601"
      ]
     },
     "execution_count": 71,
     "metadata": {},
     "output_type": "execute_result"
    }
   ],
   "source": [
    "df(-7.5, 0.00000000000001)"
   ]
  },
  {
   "cell_type": "code",
   "execution_count": 72,
   "metadata": {},
   "outputs": [
    {
     "data": {
      "text/plain": [
       "-56.84341886080801"
      ]
     },
     "execution_count": 72,
     "metadata": {},
     "output_type": "execute_result"
    }
   ],
   "source": [
    "df(-7.5, 0.000000000000001)"
   ]
  },
  {
   "cell_type": "markdown",
   "metadata": {},
   "source": [
    "# Gradien descent cho hàm 1 biến y = 3*x^2 + 2x + 1"
   ]
  },
  {
   "cell_type": "code",
   "execution_count": 1,
   "metadata": {},
   "outputs": [
    {
     "name": "stdout",
     "output_type": "stream",
     "text": [
      "Điểm cực trị khi df(x) = 0 khi x = -0.3333333333333333 \n"
     ]
    },
    {
     "data": {
      "text/plain": [
       "<Figure size 640x480 with 1 Axes>"
      ]
     },
     "metadata": {},
     "output_type": "display_data"
    }
   ],
   "source": [
    "import numpy as np\n",
    "import matplotlib.pyplot as plt\n",
    "def f(x):\n",
    "    return (3*(x**2) + 2*x + 1)  \n",
    "\n",
    "def df(x):\n",
    "    return (6*x + 2)\n",
    "\n",
    "#--------------------------------------------------\n",
    "X = np.linspace(-100, 100, 100);\n",
    "Y = f(X)\n",
    "\n",
    "print('Điểm cực trị khi df(x) = 0 khi x = {} '.format(-2/6))\n",
    "x1 = -2/6\n",
    "y1 = f(x1)\n",
    "\n",
    "plt.scatter(x1, y1, color = 'red')\n",
    "# Drawing \n",
    "plt.plot(X, Y) \n",
    "plt.xlabel('X')\n",
    "plt.ylabel('Y')\n",
    "plt.show()"
   ]
  },
  {
   "cell_type": "code",
   "execution_count": 2,
   "metadata": {},
   "outputs": [
    {
     "name": "stdout",
     "output_type": "stream",
     "text": [
      "x = -25\n",
      "x = -10.2\n",
      "x = -4.279999999999999\n",
      "x = -1.9119999999999995\n",
      "x = -0.9647999999999997\n",
      "x = -0.5859199999999998\n",
      "x = -0.43436799999999987\n",
      "x = -0.37374719999999995\n",
      "x = -0.34949887999999996\n",
      "x = -0.339799552\n",
      "x = -0.33591982080000005\n",
      "x = -0.33436792832\n",
      "x = -0.333747171328\n",
      "x = 5\n",
      "x = 1.7999999999999998\n",
      "x = 0.5199999999999998\n",
      "x = 0.007999999999999896\n",
      "x = -0.19680000000000003\n",
      "x = -0.27872\n",
      "x = -0.31148800000000004\n",
      "x = -0.32459520000000003\n",
      "x = -0.32983808000000003\n",
      "x = -0.331935232\n",
      "x = -0.3327740928\n",
      "x = -0.33310963712\n",
      "Solution x1 = -0.333747, cost = 0.666667, obtained after 12 iterations\n",
      "Solution x2 = -0.333110, cost = 0.666667, obtained after 11 iterations\n"
     ]
    },
    {
     "data": {
      "image/png": "[encoded data removed]",
      "text/plain": [
       "<Figure size 432x288 with 1 Axes>"
      ]
     },
     "metadata": {
      "needs_background": "light"
     },
     "output_type": "display_data"
    }
   ],
   "source": [
    "# Tìm điểm cực trị phương pháp gradien-decent của hàm f(x) = 3*x^2 + 2x + 1\n",
    "def f(x):\n",
    "    return (3*(x**2) + 2*x + 1)  \n",
    "\n",
    "def df(x):\n",
    "    return (6*x + 2)\n",
    "\n",
    "# run loop 1000 times\n",
    "NUM_LOOPs = 1000\n",
    "\n",
    "def find_min_point(eta, x0):    \n",
    "    #1. khởi tạo array x\n",
    "    x = [x0]\n",
    "    \n",
    "    #2. chạy vòng lặp for (0..NUM_LOOPs)\n",
    "    for it in range(NUM_LOOPs):\n",
    "        print('x = {}'.format(x[-1]))\n",
    "              \n",
    "        #2.1 Tính x_new = x - n*df(x)\n",
    "        x_new = x[-1] - eta*df(x[-1])\n",
    "        \n",
    "        #2.2 nếu f(x_new) < 0,001 --> thoát\n",
    "        if abs(df(x_new)) < 1e-3:\n",
    "            break\n",
    "            \n",
    "        x.append(x_new)\n",
    "    return (x, it)\n",
    "\n",
    "(x1, it1) = find_min_point(.1, -25)\n",
    "(x2, it2) = find_min_point(.1, 5)\n",
    "print('Solution x1 = %f, cost = %f, obtained after %d iterations'%(x1[-1], f(x1[-1]), it1))\n",
    "print('Solution x2 = %f, cost = %f, obtained after %d iterations'%(x2[-1], f(x2[-1]), it2))\n",
    "\n",
    "\n",
    "\n",
    "\n",
    "# Drawing to check data\n",
    "X = np.linspace(-10, 10, 300);\n",
    "Y = f(X)\n",
    "\n",
    "plt.scatter(x1[-1], f(x1[-1]), color = 'red')\n",
    "plt.plot(X, Y) \n",
    "plt.xlabel('X')\n",
    "plt.ylabel('Y')\n",
    "plt.show()"
   ]
  },
  {
   "cell_type": "code",
   "execution_count": null,
   "metadata": {},
   "outputs": [],
   "source": []
  }
 ],
 "metadata": {
  "kernelspec": {
   "display_name": "Python 3",
   "language": "python",
   "name": "python3"
  },
  "language_info": {
   "codemirror_mode": {
    "name": "ipython",
    "version": 3
   },
   "file_extension": ".py",
   "mimetype": "text/x-python",
   "name": "python",
   "nbconvert_exporter": "python",
   "pygments_lexer": "ipython3",
   "version": "3.7.4"
  }
 },
 "nbformat": 4,
 "nbformat_minor": 2
}
